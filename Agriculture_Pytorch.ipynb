{
  "nbformat": 4,
  "nbformat_minor": 0,
  "metadata": {
    "colab": {
      "name": "Agriculture_Pytorch",
      "provenance": []
    },
    "kernelspec": {
      "name": "python3",
      "display_name": "Python 3"
    }
  },
  "cells": [
    {
      "cell_type": "code",
      "metadata": {
        "id": "hm-AAO48e_Cj",
        "colab_type": "code",
        "colab": {}
      },
      "source": [
        "import os\n",
        "import pandas as pd\n",
        "import numpy as np\n",
        "import matplotlib.pyplot as plt\n",
        "\n",
        "from sklearn.preprocessing import LabelEncoder\n",
        "from sklearn.model_selection import train_test_split\n",
        "from sklearn.preprocessing import StandardScaler\n",
        "\n",
        "import torch, torchvision\n",
        "from torchvision.transforms import transforms\n",
        "from torch.autograd import Variable\n",
        "import torch.optim as optim\n",
        "import torch.nn as nn\n",
        "import torch.nn.functional as F\n",
        "import cv2\n",
        "\n",
        "%matplotlib inline"
      ],
      "execution_count": 1,
      "outputs": []
    },
    {
      "cell_type": "code",
      "metadata": {
        "id": "NpOMCeESBXoz",
        "colab_type": "code",
        "colab": {
          "resources": {
            "http://localhost:8080/nbextensions/google.colab/files.js": {
              "data": "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",
              "ok": true,
              "headers": [
                [
                  "content-type",
                  "application/javascript"
                ]
              ],
              "status": 200,
              "status_text": ""
            }
          },
          "base_uri": "https://localhost:8080/",
          "height": 106
        },
        "outputId": "3df3951f-2b93-47e0-b55e-d8d3602b3946"
      },
      "source": [
        "from google.colab import files\n",
        "uploaded = files.upload()"
      ],
      "execution_count": 2,
      "outputs": [
        {
          "output_type": "display_data",
          "data": {
            "text/html": [
              "\n",
              "     <input type=\"file\" id=\"files-cbf95445-eab8-4b65-8a9f-64fd43b82928\" name=\"files[]\" multiple disabled\n",
              "        style=\"border:none\" />\n",
              "     <output id=\"result-cbf95445-eab8-4b65-8a9f-64fd43b82928\">\n",
              "      Upload widget is only available when the cell has been executed in the\n",
              "      current browser session. Please rerun this cell to enable.\n",
              "      </output>\n",
              "      <script src=\"/nbextensions/google.colab/files.js\"></script> "
            ],
            "text/plain": [
              "<IPython.core.display.HTML object>"
            ]
          },
          "metadata": {
            "tags": []
          }
        },
        {
          "output_type": "stream",
          "text": [
            "Saving Test_agri.csv to Test_agri.csv\n",
            "Saving train_agri.csv to train_agri.csv\n"
          ],
          "name": "stdout"
        }
      ]
    },
    {
      "cell_type": "code",
      "metadata": {
        "id": "caw_EHklzIqU",
        "colab_type": "code",
        "colab": {}
      },
      "source": [
        "import io\n",
        "df_test = pd.read_csv(io.BytesIO(uploaded['Test_agri.csv']))\n",
        "df_train = pd.read_csv(io.BytesIO(uploaded['train_agri.csv']))"
      ],
      "execution_count": 3,
      "outputs": []
    },
    {
      "cell_type": "code",
      "metadata": {
        "id": "F0lNPjgtCw1C",
        "colab_type": "code",
        "colab": {
          "base_uri": "https://localhost:8080/",
          "height": 195
        },
        "outputId": "1aa90a4a-0539-4086-a4b0-98d3f934ef68"
      },
      "source": [
        "df_train.head()"
      ],
      "execution_count": 4,
      "outputs": [
        {
          "output_type": "execute_result",
          "data": {
            "text/html": [
              "<div>\n",
              "<style scoped>\n",
              "    .dataframe tbody tr th:only-of-type {\n",
              "        vertical-align: middle;\n",
              "    }\n",
              "\n",
              "    .dataframe tbody tr th {\n",
              "        vertical-align: top;\n",
              "    }\n",
              "\n",
              "    .dataframe thead th {\n",
              "        text-align: right;\n",
              "    }\n",
              "</style>\n",
              "<table border=\"1\" class=\"dataframe\">\n",
              "  <thead>\n",
              "    <tr style=\"text-align: right;\">\n",
              "      <th></th>\n",
              "      <th>ID</th>\n",
              "      <th>Estimated_Insects_Count</th>\n",
              "      <th>Crop_Type</th>\n",
              "      <th>Soil_Type</th>\n",
              "      <th>Pesticide_Use_Category</th>\n",
              "      <th>Number_Doses_Week</th>\n",
              "      <th>Number_Weeks_Used</th>\n",
              "      <th>Number_Weeks_Quit</th>\n",
              "      <th>Season</th>\n",
              "      <th>Crop_Damage</th>\n",
              "    </tr>\n",
              "  </thead>\n",
              "  <tbody>\n",
              "    <tr>\n",
              "      <th>0</th>\n",
              "      <td>F00000001</td>\n",
              "      <td>188</td>\n",
              "      <td>1</td>\n",
              "      <td>0</td>\n",
              "      <td>1</td>\n",
              "      <td>0</td>\n",
              "      <td>0.0</td>\n",
              "      <td>0</td>\n",
              "      <td>1</td>\n",
              "      <td>0</td>\n",
              "    </tr>\n",
              "    <tr>\n",
              "      <th>1</th>\n",
              "      <td>F00000003</td>\n",
              "      <td>209</td>\n",
              "      <td>1</td>\n",
              "      <td>0</td>\n",
              "      <td>1</td>\n",
              "      <td>0</td>\n",
              "      <td>0.0</td>\n",
              "      <td>0</td>\n",
              "      <td>2</td>\n",
              "      <td>1</td>\n",
              "    </tr>\n",
              "    <tr>\n",
              "      <th>2</th>\n",
              "      <td>F00000004</td>\n",
              "      <td>257</td>\n",
              "      <td>1</td>\n",
              "      <td>0</td>\n",
              "      <td>1</td>\n",
              "      <td>0</td>\n",
              "      <td>0.0</td>\n",
              "      <td>0</td>\n",
              "      <td>2</td>\n",
              "      <td>1</td>\n",
              "    </tr>\n",
              "    <tr>\n",
              "      <th>3</th>\n",
              "      <td>F00000005</td>\n",
              "      <td>257</td>\n",
              "      <td>1</td>\n",
              "      <td>1</td>\n",
              "      <td>1</td>\n",
              "      <td>0</td>\n",
              "      <td>0.0</td>\n",
              "      <td>0</td>\n",
              "      <td>2</td>\n",
              "      <td>1</td>\n",
              "    </tr>\n",
              "    <tr>\n",
              "      <th>4</th>\n",
              "      <td>F00000006</td>\n",
              "      <td>342</td>\n",
              "      <td>1</td>\n",
              "      <td>0</td>\n",
              "      <td>1</td>\n",
              "      <td>0</td>\n",
              "      <td>0.0</td>\n",
              "      <td>0</td>\n",
              "      <td>2</td>\n",
              "      <td>1</td>\n",
              "    </tr>\n",
              "  </tbody>\n",
              "</table>\n",
              "</div>"
            ],
            "text/plain": [
              "          ID  Estimated_Insects_Count  ...  Season  Crop_Damage\n",
              "0  F00000001                      188  ...       1            0\n",
              "1  F00000003                      209  ...       2            1\n",
              "2  F00000004                      257  ...       2            1\n",
              "3  F00000005                      257  ...       2            1\n",
              "4  F00000006                      342  ...       2            1\n",
              "\n",
              "[5 rows x 10 columns]"
            ]
          },
          "metadata": {
            "tags": []
          },
          "execution_count": 4
        }
      ]
    },
    {
      "cell_type": "code",
      "metadata": {
        "id": "riWiBWPzC9Eq",
        "colab_type": "code",
        "colab": {
          "base_uri": "https://localhost:8080/",
          "height": 202
        },
        "outputId": "e30f21bd-2e32-481b-ce0d-60a1d7e3dd08"
      },
      "source": [
        "df_train.isnull().sum()"
      ],
      "execution_count": 5,
      "outputs": [
        {
          "output_type": "execute_result",
          "data": {
            "text/plain": [
              "ID                            0\n",
              "Estimated_Insects_Count       0\n",
              "Crop_Type                     0\n",
              "Soil_Type                     0\n",
              "Pesticide_Use_Category        0\n",
              "Number_Doses_Week             0\n",
              "Number_Weeks_Used          9000\n",
              "Number_Weeks_Quit             0\n",
              "Season                        0\n",
              "Crop_Damage                   0\n",
              "dtype: int64"
            ]
          },
          "metadata": {
            "tags": []
          },
          "execution_count": 5
        }
      ]
    },
    {
      "cell_type": "code",
      "metadata": {
        "id": "ifiBFT9lDf4q",
        "colab_type": "code",
        "colab": {
          "base_uri": "https://localhost:8080/",
          "height": 218
        },
        "outputId": "5fe6303a-5594-462c-b655-523c0424a890"
      },
      "source": [
        "df_train['Number_Weeks_Used'].value_counts()"
      ],
      "execution_count": 6,
      "outputs": [
        {
          "output_type": "execute_result",
          "data": {
            "text/plain": [
              "20.0    3878\n",
              "30.0    3765\n",
              "25.0    3120\n",
              "40.0    2707\n",
              "15.0    2486\n",
              "        ... \n",
              "63.0      50\n",
              "64.0      44\n",
              "65.0      31\n",
              "66.0      17\n",
              "67.0       8\n",
              "Name: Number_Weeks_Used, Length: 64, dtype: int64"
            ]
          },
          "metadata": {
            "tags": []
          },
          "execution_count": 6
        }
      ]
    },
    {
      "cell_type": "code",
      "metadata": {
        "id": "UHvM6cHIDiPe",
        "colab_type": "code",
        "colab": {}
      },
      "source": [
        "df_train['Number_Weeks_Used'] = df_train['Number_Weeks_Used'].fillna(df_train['Number_Weeks_Used'].median())"
      ],
      "execution_count": 7,
      "outputs": []
    },
    {
      "cell_type": "code",
      "metadata": {
        "id": "Om5Lf8_PDmtN",
        "colab_type": "code",
        "colab": {
          "base_uri": "https://localhost:8080/",
          "height": 34
        },
        "outputId": "1ad0a9b7-6c01-4a8a-b429-3ce7c8b42081"
      },
      "source": [
        "df_train['Number_Weeks_Used'].isnull().sum()"
      ],
      "execution_count": 8,
      "outputs": [
        {
          "output_type": "execute_result",
          "data": {
            "text/plain": [
              "0"
            ]
          },
          "metadata": {
            "tags": []
          },
          "execution_count": 8
        }
      ]
    },
    {
      "cell_type": "code",
      "metadata": {
        "id": "BF6-RC86DtOX",
        "colab_type": "code",
        "colab": {}
      },
      "source": [
        "encoder = LabelEncoder()"
      ],
      "execution_count": 9,
      "outputs": []
    },
    {
      "cell_type": "code",
      "metadata": {
        "id": "MV0wpGbEDvjV",
        "colab_type": "code",
        "colab": {}
      },
      "source": [
        "df_train['ID'] = encoder.fit_transform(df_train['ID'])"
      ],
      "execution_count": 10,
      "outputs": []
    },
    {
      "cell_type": "code",
      "metadata": {
        "id": "vh9CONVmD7DF",
        "colab_type": "code",
        "colab": {
          "base_uri": "https://localhost:8080/",
          "height": 185
        },
        "outputId": "4ccf0235-dd00-4e75-9440-f244c97f1b5d"
      },
      "source": [
        "df_test.isnull().sum()"
      ],
      "execution_count": 11,
      "outputs": [
        {
          "output_type": "execute_result",
          "data": {
            "text/plain": [
              "ID                            0\n",
              "Estimated_Insects_Count       0\n",
              "Crop_Type                     0\n",
              "Soil_Type                     0\n",
              "Pesticide_Use_Category        0\n",
              "Number_Doses_Week             0\n",
              "Number_Weeks_Used          5893\n",
              "Number_Weeks_Quit             0\n",
              "Season                        0\n",
              "dtype: int64"
            ]
          },
          "metadata": {
            "tags": []
          },
          "execution_count": 11
        }
      ]
    },
    {
      "cell_type": "code",
      "metadata": {
        "id": "-13kEqKbEARn",
        "colab_type": "code",
        "colab": {}
      },
      "source": [
        "df_test['Number_Weeks_Used'] = df_test['Number_Weeks_Used'].fillna(df_test['Number_Weeks_Used'].median())"
      ],
      "execution_count": 12,
      "outputs": []
    },
    {
      "cell_type": "code",
      "metadata": {
        "id": "hS81DfkZEDtP",
        "colab_type": "code",
        "colab": {
          "base_uri": "https://localhost:8080/",
          "height": 185
        },
        "outputId": "2edb09d3-ebd6-4b57-bb96-560f6964c308"
      },
      "source": [
        "df_test.isnull().sum()"
      ],
      "execution_count": 13,
      "outputs": [
        {
          "output_type": "execute_result",
          "data": {
            "text/plain": [
              "ID                         0\n",
              "Estimated_Insects_Count    0\n",
              "Crop_Type                  0\n",
              "Soil_Type                  0\n",
              "Pesticide_Use_Category     0\n",
              "Number_Doses_Week          0\n",
              "Number_Weeks_Used          0\n",
              "Number_Weeks_Quit          0\n",
              "Season                     0\n",
              "dtype: int64"
            ]
          },
          "metadata": {
            "tags": []
          },
          "execution_count": 13
        }
      ]
    },
    {
      "cell_type": "code",
      "metadata": {
        "id": "gmYk6sbuEFgr",
        "colab_type": "code",
        "colab": {}
      },
      "source": [
        "df_test['ID'] = encoder.fit_transform(df_test['ID'])"
      ],
      "execution_count": 14,
      "outputs": []
    },
    {
      "cell_type": "code",
      "metadata": {
        "id": "b0YiaObaEI_h",
        "colab_type": "code",
        "colab": {
          "base_uri": "https://localhost:8080/",
          "height": 195
        },
        "outputId": "cdb2196f-0b5e-4548-fb39-312f066da0ea"
      },
      "source": [
        "df_train.head()"
      ],
      "execution_count": 15,
      "outputs": [
        {
          "output_type": "execute_result",
          "data": {
            "text/html": [
              "<div>\n",
              "<style scoped>\n",
              "    .dataframe tbody tr th:only-of-type {\n",
              "        vertical-align: middle;\n",
              "    }\n",
              "\n",
              "    .dataframe tbody tr th {\n",
              "        vertical-align: top;\n",
              "    }\n",
              "\n",
              "    .dataframe thead th {\n",
              "        text-align: right;\n",
              "    }\n",
              "</style>\n",
              "<table border=\"1\" class=\"dataframe\">\n",
              "  <thead>\n",
              "    <tr style=\"text-align: right;\">\n",
              "      <th></th>\n",
              "      <th>ID</th>\n",
              "      <th>Estimated_Insects_Count</th>\n",
              "      <th>Crop_Type</th>\n",
              "      <th>Soil_Type</th>\n",
              "      <th>Pesticide_Use_Category</th>\n",
              "      <th>Number_Doses_Week</th>\n",
              "      <th>Number_Weeks_Used</th>\n",
              "      <th>Number_Weeks_Quit</th>\n",
              "      <th>Season</th>\n",
              "      <th>Crop_Damage</th>\n",
              "    </tr>\n",
              "  </thead>\n",
              "  <tbody>\n",
              "    <tr>\n",
              "      <th>0</th>\n",
              "      <td>0</td>\n",
              "      <td>188</td>\n",
              "      <td>1</td>\n",
              "      <td>0</td>\n",
              "      <td>1</td>\n",
              "      <td>0</td>\n",
              "      <td>0.0</td>\n",
              "      <td>0</td>\n",
              "      <td>1</td>\n",
              "      <td>0</td>\n",
              "    </tr>\n",
              "    <tr>\n",
              "      <th>1</th>\n",
              "      <td>1</td>\n",
              "      <td>209</td>\n",
              "      <td>1</td>\n",
              "      <td>0</td>\n",
              "      <td>1</td>\n",
              "      <td>0</td>\n",
              "      <td>0.0</td>\n",
              "      <td>0</td>\n",
              "      <td>2</td>\n",
              "      <td>1</td>\n",
              "    </tr>\n",
              "    <tr>\n",
              "      <th>2</th>\n",
              "      <td>2</td>\n",
              "      <td>257</td>\n",
              "      <td>1</td>\n",
              "      <td>0</td>\n",
              "      <td>1</td>\n",
              "      <td>0</td>\n",
              "      <td>0.0</td>\n",
              "      <td>0</td>\n",
              "      <td>2</td>\n",
              "      <td>1</td>\n",
              "    </tr>\n",
              "    <tr>\n",
              "      <th>3</th>\n",
              "      <td>3</td>\n",
              "      <td>257</td>\n",
              "      <td>1</td>\n",
              "      <td>1</td>\n",
              "      <td>1</td>\n",
              "      <td>0</td>\n",
              "      <td>0.0</td>\n",
              "      <td>0</td>\n",
              "      <td>2</td>\n",
              "      <td>1</td>\n",
              "    </tr>\n",
              "    <tr>\n",
              "      <th>4</th>\n",
              "      <td>4</td>\n",
              "      <td>342</td>\n",
              "      <td>1</td>\n",
              "      <td>0</td>\n",
              "      <td>1</td>\n",
              "      <td>0</td>\n",
              "      <td>0.0</td>\n",
              "      <td>0</td>\n",
              "      <td>2</td>\n",
              "      <td>1</td>\n",
              "    </tr>\n",
              "  </tbody>\n",
              "</table>\n",
              "</div>"
            ],
            "text/plain": [
              "   ID  Estimated_Insects_Count  ...  Season  Crop_Damage\n",
              "0   0                      188  ...       1            0\n",
              "1   1                      209  ...       2            1\n",
              "2   2                      257  ...       2            1\n",
              "3   3                      257  ...       2            1\n",
              "4   4                      342  ...       2            1\n",
              "\n",
              "[5 rows x 10 columns]"
            ]
          },
          "metadata": {
            "tags": []
          },
          "execution_count": 15
        }
      ]
    },
    {
      "cell_type": "code",
      "metadata": {
        "id": "K_7dtyqxELJd",
        "colab_type": "code",
        "colab": {
          "base_uri": "https://localhost:8080/",
          "height": 195
        },
        "outputId": "ffbd4f1e-57b4-4e90-c137-d0a3c43a2eaf"
      },
      "source": [
        "df_test.head()"
      ],
      "execution_count": 16,
      "outputs": [
        {
          "output_type": "execute_result",
          "data": {
            "text/html": [
              "<div>\n",
              "<style scoped>\n",
              "    .dataframe tbody tr th:only-of-type {\n",
              "        vertical-align: middle;\n",
              "    }\n",
              "\n",
              "    .dataframe tbody tr th {\n",
              "        vertical-align: top;\n",
              "    }\n",
              "\n",
              "    .dataframe thead th {\n",
              "        text-align: right;\n",
              "    }\n",
              "</style>\n",
              "<table border=\"1\" class=\"dataframe\">\n",
              "  <thead>\n",
              "    <tr style=\"text-align: right;\">\n",
              "      <th></th>\n",
              "      <th>ID</th>\n",
              "      <th>Estimated_Insects_Count</th>\n",
              "      <th>Crop_Type</th>\n",
              "      <th>Soil_Type</th>\n",
              "      <th>Pesticide_Use_Category</th>\n",
              "      <th>Number_Doses_Week</th>\n",
              "      <th>Number_Weeks_Used</th>\n",
              "      <th>Number_Weeks_Quit</th>\n",
              "      <th>Season</th>\n",
              "    </tr>\n",
              "  </thead>\n",
              "  <tbody>\n",
              "    <tr>\n",
              "      <th>0</th>\n",
              "      <td>0</td>\n",
              "      <td>188</td>\n",
              "      <td>1</td>\n",
              "      <td>1</td>\n",
              "      <td>1</td>\n",
              "      <td>0</td>\n",
              "      <td>28.0</td>\n",
              "      <td>0</td>\n",
              "      <td>2</td>\n",
              "    </tr>\n",
              "    <tr>\n",
              "      <th>1</th>\n",
              "      <td>1</td>\n",
              "      <td>410</td>\n",
              "      <td>1</td>\n",
              "      <td>1</td>\n",
              "      <td>1</td>\n",
              "      <td>0</td>\n",
              "      <td>0.0</td>\n",
              "      <td>0</td>\n",
              "      <td>2</td>\n",
              "    </tr>\n",
              "    <tr>\n",
              "      <th>2</th>\n",
              "      <td>2</td>\n",
              "      <td>626</td>\n",
              "      <td>1</td>\n",
              "      <td>0</td>\n",
              "      <td>1</td>\n",
              "      <td>0</td>\n",
              "      <td>0.0</td>\n",
              "      <td>0</td>\n",
              "      <td>2</td>\n",
              "    </tr>\n",
              "    <tr>\n",
              "      <th>3</th>\n",
              "      <td>3</td>\n",
              "      <td>731</td>\n",
              "      <td>1</td>\n",
              "      <td>0</td>\n",
              "      <td>1</td>\n",
              "      <td>0</td>\n",
              "      <td>0.0</td>\n",
              "      <td>0</td>\n",
              "      <td>2</td>\n",
              "    </tr>\n",
              "    <tr>\n",
              "      <th>4</th>\n",
              "      <td>4</td>\n",
              "      <td>789</td>\n",
              "      <td>0</td>\n",
              "      <td>0</td>\n",
              "      <td>1</td>\n",
              "      <td>0</td>\n",
              "      <td>0.0</td>\n",
              "      <td>0</td>\n",
              "      <td>1</td>\n",
              "    </tr>\n",
              "  </tbody>\n",
              "</table>\n",
              "</div>"
            ],
            "text/plain": [
              "   ID  Estimated_Insects_Count  ...  Number_Weeks_Quit  Season\n",
              "0   0                      188  ...                  0       2\n",
              "1   1                      410  ...                  0       2\n",
              "2   2                      626  ...                  0       2\n",
              "3   3                      731  ...                  0       2\n",
              "4   4                      789  ...                  0       1\n",
              "\n",
              "[5 rows x 9 columns]"
            ]
          },
          "metadata": {
            "tags": []
          },
          "execution_count": 16
        }
      ]
    },
    {
      "cell_type": "code",
      "metadata": {
        "id": "1sLepXDBENRX",
        "colab_type": "code",
        "colab": {}
      },
      "source": [
        "y = np.array(df_train['Crop_Damage'])"
      ],
      "execution_count": 18,
      "outputs": []
    },
    {
      "cell_type": "code",
      "metadata": {
        "id": "-Ckay054Fqm8",
        "colab_type": "code",
        "colab": {
          "base_uri": "https://localhost:8080/",
          "height": 34
        },
        "outputId": "7f346463-c820-4ab1-814d-5fb5f2b84a22"
      },
      "source": [
        "y"
      ],
      "execution_count": 19,
      "outputs": [
        {
          "output_type": "execute_result",
          "data": {
            "text/plain": [
              "array([0, 1, 1, ..., 0, 0, 0])"
            ]
          },
          "metadata": {
            "tags": []
          },
          "execution_count": 19
        }
      ]
    },
    {
      "cell_type": "code",
      "metadata": {
        "id": "_dSFLL9hER9g",
        "colab_type": "code",
        "colab": {}
      },
      "source": [
        "X = np.array(df_train.iloc[:, df_train.columns != 'Crop_Damage'])"
      ],
      "execution_count": 20,
      "outputs": []
    },
    {
      "cell_type": "code",
      "metadata": {
        "id": "e7IYOHsNFlr6",
        "colab_type": "code",
        "colab": {
          "base_uri": "https://localhost:8080/",
          "height": 235
        },
        "outputId": "913f77c9-3334-4d62-b3d9-bfb7282558cf"
      },
      "source": [
        "X"
      ],
      "execution_count": 21,
      "outputs": [
        {
          "output_type": "execute_result",
          "data": {
            "text/plain": [
              "array([[0.0000e+00, 1.8800e+02, 1.0000e+00, ..., 0.0000e+00, 0.0000e+00,\n",
              "        1.0000e+00],\n",
              "       [1.0000e+00, 2.0900e+02, 1.0000e+00, ..., 0.0000e+00, 0.0000e+00,\n",
              "        2.0000e+00],\n",
              "       [2.0000e+00, 2.5700e+02, 1.0000e+00, ..., 0.0000e+00, 0.0000e+00,\n",
              "        2.0000e+00],\n",
              "       ...,\n",
              "       [8.8855e+04, 3.5160e+03, 1.0000e+00, ..., 4.0000e+01, 8.0000e+00,\n",
              "        2.0000e+00],\n",
              "       [8.8856e+04, 3.7020e+03, 1.0000e+00, ..., 2.5000e+01, 1.8000e+01,\n",
              "        3.0000e+00],\n",
              "       [8.8857e+04, 3.8950e+03, 1.0000e+00, ..., 3.7000e+01, 7.0000e+00,\n",
              "        3.0000e+00]])"
            ]
          },
          "metadata": {
            "tags": []
          },
          "execution_count": 21
        }
      ]
    },
    {
      "cell_type": "code",
      "metadata": {
        "id": "Z0_EEdWVEUHW",
        "colab_type": "code",
        "colab": {}
      },
      "source": [
        "X_train, X_test, y_train, y_test = train_test_split(X, y, test_size = 0.35)"
      ],
      "execution_count": 22,
      "outputs": []
    },
    {
      "cell_type": "code",
      "metadata": {
        "id": "jEeF_ABOEovg",
        "colab_type": "code",
        "colab": {
          "base_uri": "https://localhost:8080/",
          "height": 34
        },
        "outputId": "2e8e104d-07ad-45b5-dd19-e62f45e911f0"
      },
      "source": [
        "X_train.shape"
      ],
      "execution_count": 23,
      "outputs": [
        {
          "output_type": "execute_result",
          "data": {
            "text/plain": [
              "(57757, 9)"
            ]
          },
          "metadata": {
            "tags": []
          },
          "execution_count": 23
        }
      ]
    },
    {
      "cell_type": "code",
      "metadata": {
        "id": "I1W4h-k2Fy4A",
        "colab_type": "code",
        "colab": {
          "base_uri": "https://localhost:8080/",
          "height": 235
        },
        "outputId": "9ec19331-257a-4dae-f7d0-d41e94f9611a"
      },
      "source": [
        "X_train"
      ],
      "execution_count": 24,
      "outputs": [
        {
          "output_type": "execute_result",
          "data": {
            "text/plain": [
              "array([[2.0300e+02, 1.2120e+03, 0.0000e+00, ..., 4.7000e+01, 0.0000e+00,\n",
              "        1.0000e+00],\n",
              "       [6.0275e+04, 1.2960e+03, 0.0000e+00, ..., 2.8000e+01, 5.0000e+00,\n",
              "        2.0000e+00],\n",
              "       [7.3528e+04, 1.7850e+03, 1.0000e+00, ..., 2.8000e+01, 1.0000e+01,\n",
              "        1.0000e+00],\n",
              "       ...,\n",
              "       [5.9915e+04, 5.3100e+02, 0.0000e+00, ..., 2.0000e+01, 1.0000e+01,\n",
              "        2.0000e+00],\n",
              "       [7.0258e+04, 1.1320e+03, 0.0000e+00, ..., 2.0000e+01, 1.8000e+01,\n",
              "        2.0000e+00],\n",
              "       [1.2308e+04, 3.3360e+03, 0.0000e+00, ..., 2.0000e+01, 3.1000e+01,\n",
              "        1.0000e+00]])"
            ]
          },
          "metadata": {
            "tags": []
          },
          "execution_count": 24
        }
      ]
    },
    {
      "cell_type": "code",
      "metadata": {
        "id": "DWuVwxsoEsoe",
        "colab_type": "code",
        "colab": {
          "base_uri": "https://localhost:8080/",
          "height": 34
        },
        "outputId": "44e91572-5cc4-43ac-e1ef-e5755135c4ac"
      },
      "source": [
        "y_train.shape"
      ],
      "execution_count": 25,
      "outputs": [
        {
          "output_type": "execute_result",
          "data": {
            "text/plain": [
              "(57757,)"
            ]
          },
          "metadata": {
            "tags": []
          },
          "execution_count": 25
        }
      ]
    },
    {
      "cell_type": "code",
      "metadata": {
        "id": "MRZ0e2AAE7fn",
        "colab_type": "code",
        "colab": {}
      },
      "source": [
        "from torch.utils.data import DataLoader"
      ],
      "execution_count": 26,
      "outputs": []
    },
    {
      "cell_type": "code",
      "metadata": {
        "id": "E8sceqNFF9uH",
        "colab_type": "code",
        "colab": {}
      },
      "source": [
        "batch_size = 100\n",
        "train_dataloader = DataLoader(X_train, batch_size, shuffle = True)"
      ],
      "execution_count": 27,
      "outputs": []
    },
    {
      "cell_type": "code",
      "metadata": {
        "id": "RzK4rwEnGJUC",
        "colab_type": "code",
        "colab": {
          "base_uri": "https://localhost:8080/",
          "height": 1000
        },
        "outputId": "0b3eaeee-ff50-40d0-9256-1a8365a19f72"
      },
      "source": [
        "for data in train_dataloader:\n",
        "  print(data)\n",
        "  break"
      ],
      "execution_count": 28,
      "outputs": [
        {
          "output_type": "stream",
          "text": [
            "tensor([[2.6668e+04, 2.9990e+03, 0.0000e+00, 0.0000e+00, 2.0000e+00, 2.0000e+01,\n",
            "         2.8000e+01, 2.4000e+01, 1.0000e+00],\n",
            "        [4.0283e+04, 2.5410e+03, 0.0000e+00, 1.0000e+00, 2.0000e+00, 1.0000e+01,\n",
            "         1.8000e+01, 2.8000e+01, 2.0000e+00],\n",
            "        [1.5057e+04, 9.8400e+02, 1.0000e+00, 0.0000e+00, 2.0000e+00, 3.0000e+01,\n",
            "         4.1000e+01, 7.0000e+00, 1.0000e+00],\n",
            "        [5.1460e+03, 2.0900e+02, 0.0000e+00, 1.0000e+00, 3.0000e+00, 4.0000e+01,\n",
            "         1.0000e+01, 0.0000e+00, 2.0000e+00],\n",
            "        [5.8129e+04, 4.1100e+02, 1.0000e+00, 0.0000e+00, 2.0000e+00, 5.0000e+00,\n",
            "         5.0000e+00, 1.0000e+01, 2.0000e+00],\n",
            "        [3.8002e+04, 1.2970e+03, 1.0000e+00, 0.0000e+00, 2.0000e+00, 2.0000e+01,\n",
            "         4.2000e+01, 2.0000e+00, 1.0000e+00],\n",
            "        [7.6768e+04, 1.7850e+03, 1.0000e+00, 0.0000e+00, 3.0000e+00, 4.0000e+01,\n",
            "         2.8000e+01, 0.0000e+00, 1.0000e+00],\n",
            "        [5.9132e+04, 2.0160e+03, 1.0000e+00, 0.0000e+00, 3.0000e+00, 1.0000e+01,\n",
            "         1.5000e+01, 0.0000e+00, 2.0000e+00],\n",
            "        [3.8877e+04, 2.9990e+03, 1.0000e+00, 0.0000e+00, 3.0000e+00, 1.5000e+01,\n",
            "         3.0000e+01, 0.0000e+00, 2.0000e+00],\n",
            "        [1.6490e+04, 2.4020e+03, 0.0000e+00, 0.0000e+00, 2.0000e+00, 2.0000e+01,\n",
            "         3.7000e+01, 1.3000e+01, 1.0000e+00],\n",
            "        [5.2873e+04, 1.7860e+03, 0.0000e+00, 1.0000e+00, 2.0000e+00, 2.0000e+01,\n",
            "         1.2000e+01, 3.3000e+01, 3.0000e+00],\n",
            "        [1.6835e+04, 7.8900e+02, 0.0000e+00, 1.0000e+00, 2.0000e+00, 4.0000e+01,\n",
            "         1.6000e+01, 1.9000e+01, 2.0000e+00],\n",
            "        [5.3595e+04, 7.9000e+02, 0.0000e+00, 1.0000e+00, 3.0000e+00, 6.0000e+01,\n",
            "         3.8000e+01, 0.0000e+00, 2.0000e+00],\n",
            "        [6.1160e+03, 1.4780e+03, 0.0000e+00, 0.0000e+00, 2.0000e+00, 1.5000e+01,\n",
            "         3.8000e+01, 4.0000e+00, 3.0000e+00],\n",
            "        [4.6093e+04, 1.0560e+03, 0.0000e+00, 0.0000e+00, 3.0000e+00, 3.5000e+01,\n",
            "         4.3000e+01, 0.0000e+00, 2.0000e+00],\n",
            "        [2.7254e+04, 1.5750e+03, 0.0000e+00, 1.0000e+00, 2.0000e+00, 6.0000e+01,\n",
            "         2.8000e+01, 1.8000e+01, 2.0000e+00],\n",
            "        [5.9620e+04, 1.8980e+03, 0.0000e+00, 0.0000e+00, 2.0000e+00, 2.5000e+01,\n",
            "         2.7000e+01, 1.4000e+01, 2.0000e+00],\n",
            "        [3.0746e+04, 1.8980e+03, 0.0000e+00, 0.0000e+00, 3.0000e+00, 3.0000e+01,\n",
            "         4.6000e+01, 0.0000e+00, 3.0000e+00],\n",
            "        [4.8437e+04, 5.7700e+02, 0.0000e+00, 1.0000e+00, 3.0000e+00, 8.0000e+01,\n",
            "         3.5000e+01, 0.0000e+00, 2.0000e+00],\n",
            "        [6.6437e+04, 2.2670e+03, 0.0000e+00, 0.0000e+00, 3.0000e+00, 2.0000e+01,\n",
            "         2.8000e+01, 0.0000e+00, 1.0000e+00],\n",
            "        [5.0827e+04, 1.6780e+03, 1.0000e+00, 0.0000e+00, 2.0000e+00, 4.0000e+01,\n",
            "         1.7000e+01, 2.9000e+01, 1.0000e+00],\n",
            "        [3.5309e+04, 9.8400e+02, 1.0000e+00, 0.0000e+00, 2.0000e+00, 2.5000e+01,\n",
            "         2.5000e+01, 1.0000e+00, 3.0000e+00],\n",
            "        [7.6444e+04, 1.8980e+03, 0.0000e+00, 0.0000e+00, 3.0000e+00, 4.0000e+01,\n",
            "         2.8000e+01, 0.0000e+00, 1.0000e+00],\n",
            "        [3.0900e+03, 9.8400e+02, 1.0000e+00, 1.0000e+00, 3.0000e+00, 3.0000e+01,\n",
            "         6.0000e+00, 0.0000e+00, 3.0000e+00],\n",
            "        [8.8837e+04, 2.6880e+03, 1.0000e+00, 0.0000e+00, 2.0000e+00, 2.5000e+01,\n",
            "         4.0000e+01, 1.2000e+01, 2.0000e+00],\n",
            "        [2.4954e+04, 2.6870e+03, 0.0000e+00, 1.0000e+00, 2.0000e+00, 3.5000e+01,\n",
            "         2.7000e+01, 2.8000e+01, 2.0000e+00],\n",
            "        [1.8886e+04, 1.6780e+03, 0.0000e+00, 0.0000e+00, 2.0000e+00, 3.0000e+01,\n",
            "         2.0000e+01, 2.5000e+01, 3.0000e+00],\n",
            "        [3.9283e+04, 1.6780e+03, 0.0000e+00, 0.0000e+00, 2.0000e+00, 1.0000e+01,\n",
            "         1.5000e+01, 3.1000e+01, 2.0000e+00],\n",
            "        [3.6098e+04, 1.0560e+03, 1.0000e+00, 1.0000e+00, 3.0000e+00, 8.0000e+01,\n",
            "         3.6000e+01, 0.0000e+00, 2.0000e+00],\n",
            "        [3.1490e+04, 1.3850e+03, 0.0000e+00, 0.0000e+00, 2.0000e+00, 1.5000e+01,\n",
            "         2.9000e+01, 1.6000e+01, 3.0000e+00],\n",
            "        [5.6581e+04, 1.7860e+03, 1.0000e+00, 0.0000e+00, 3.0000e+00, 3.0000e+01,\n",
            "         4.0000e+01, 0.0000e+00, 3.0000e+00],\n",
            "        [7.1955e+04, 1.0560e+03, 0.0000e+00, 0.0000e+00, 2.0000e+00, 1.5000e+01,\n",
            "         2.0000e+01, 2.0000e+01, 2.0000e+00],\n",
            "        [4.6766e+04, 9.1600e+02, 0.0000e+00, 0.0000e+00, 2.0000e+00, 2.5000e+01,\n",
            "         3.8000e+01, 2.0000e+00, 1.0000e+00],\n",
            "        [7.3007e+04, 1.7850e+03, 0.0000e+00, 1.0000e+00, 2.0000e+00, 4.0000e+01,\n",
            "         1.4000e+01, 3.0000e+01, 3.0000e+00],\n",
            "        [7.9650e+04, 1.3850e+03, 0.0000e+00, 0.0000e+00, 2.0000e+00, 2.0000e+01,\n",
            "         3.4000e+01, 9.0000e+00, 2.0000e+00],\n",
            "        [6.3512e+04, 2.1380e+03, 1.0000e+00, 0.0000e+00, 2.0000e+00, 4.0000e+01,\n",
            "         2.0000e+01, 2.2000e+01, 1.0000e+00],\n",
            "        [7.0640e+03, 2.1380e+03, 0.0000e+00, 1.0000e+00, 2.0000e+00, 2.0000e+01,\n",
            "         2.4000e+01, 1.8000e+01, 2.0000e+00],\n",
            "        [6.0994e+04, 2.0150e+03, 1.0000e+00, 0.0000e+00, 2.0000e+00, 3.0000e+01,\n",
            "         2.0000e+01, 1.7000e+01, 3.0000e+00],\n",
            "        [1.1597e+04, 5.3100e+02, 0.0000e+00, 1.0000e+00, 2.0000e+00, 4.0000e+01,\n",
            "         2.6000e+01, 1.0000e+00, 2.0000e+00],\n",
            "        [6.9963e+04, 4.4800e+02, 0.0000e+00, 1.0000e+00, 2.0000e+00, 2.0000e+01,\n",
            "         1.6000e+01, 1.6000e+01, 3.0000e+00],\n",
            "        [1.1035e+04, 1.1320e+03, 0.0000e+00, 0.0000e+00, 2.0000e+00, 3.5000e+01,\n",
            "         4.2000e+01, 0.0000e+00, 1.0000e+00],\n",
            "        [2.1743e+04, 5.3100e+02, 0.0000e+00, 1.0000e+00, 2.0000e+00, 5.0000e+00,\n",
            "         2.6000e+01, 6.0000e+00, 1.0000e+00],\n",
            "        [4.1215e+04, 4.1100e+02, 1.0000e+00, 0.0000e+00, 3.0000e+00, 5.0000e+00,\n",
            "         2.9000e+01, 0.0000e+00, 1.0000e+00],\n",
            "        [8.7316e+04, 1.2120e+03, 0.0000e+00, 0.0000e+00, 2.0000e+00, 4.0000e+01,\n",
            "         3.0000e+01, 7.0000e+00, 3.0000e+00],\n",
            "        [1.6722e+04, 5.7700e+02, 0.0000e+00, 1.0000e+00, 2.0000e+00, 5.0000e+01,\n",
            "         1.9000e+01, 1.2000e+01, 1.0000e+00],\n",
            "        [9.4970e+03, 1.8980e+03, 0.0000e+00, 1.0000e+00, 2.0000e+00, 3.0000e+01,\n",
            "         3.0000e+01, 1.8000e+01, 1.0000e+00],\n",
            "        [2.1162e+04, 9.1500e+02, 0.0000e+00, 0.0000e+00, 2.0000e+00, 5.0000e+00,\n",
            "         6.0000e+00, 2.4000e+01, 1.0000e+00],\n",
            "        [4.2012e+04, 2.2670e+03, 0.0000e+00, 0.0000e+00, 2.0000e+00, 8.0000e+01,\n",
            "         3.8000e+01, 1.3000e+01, 3.0000e+00],\n",
            "        [8.0125e+04, 5.7700e+02, 0.0000e+00, 1.0000e+00, 2.0000e+00, 3.0000e+01,\n",
            "         2.6000e+01, 0.0000e+00, 2.0000e+00],\n",
            "        [2.0566e+04, 1.5760e+03, 0.0000e+00, 0.0000e+00, 3.0000e+00, 3.5000e+01,\n",
            "         2.8000e+01, 0.0000e+00, 1.0000e+00],\n",
            "        [3.9694e+04, 6.2500e+02, 0.0000e+00, 1.0000e+00, 2.0000e+00, 1.5000e+01,\n",
            "         1.8000e+01, 1.5000e+01, 3.0000e+00],\n",
            "        [4.5319e+04, 2.1380e+03, 0.0000e+00, 1.0000e+00, 2.0000e+00, 1.0000e+01,\n",
            "         4.0000e+01, 9.0000e+00, 2.0000e+00],\n",
            "        [7.9042e+04, 2.3200e+02, 1.0000e+00, 1.0000e+00, 3.0000e+00, 5.0000e+00,\n",
            "         2.8000e+01, 0.0000e+00, 2.0000e+00],\n",
            "        [8.6505e+04, 8.5000e+02, 0.0000e+00, 1.0000e+00, 3.0000e+00, 1.0000e+01,\n",
            "         3.7000e+01, 0.0000e+00, 2.0000e+00],\n",
            "        [7.9080e+04, 4.1100e+02, 1.0000e+00, 0.0000e+00, 3.0000e+00, 2.0000e+01,\n",
            "         3.6000e+01, 0.0000e+00, 1.0000e+00],\n",
            "        [6.1564e+04, 8.5100e+02, 1.0000e+00, 1.0000e+00, 3.0000e+00, 3.0000e+01,\n",
            "         3.9000e+01, 0.0000e+00, 2.0000e+00],\n",
            "        [1.6201e+04, 1.1320e+03, 0.0000e+00, 0.0000e+00, 2.0000e+00, 4.0000e+01,\n",
            "         3.4000e+01, 4.0000e+00, 2.0000e+00],\n",
            "        [3.2639e+04, 3.7020e+03, 0.0000e+00, 1.0000e+00, 2.0000e+00, 5.0000e+00,\n",
            "         1.7000e+01, 3.9000e+01, 1.0000e+00],\n",
            "        [4.4898e+04, 7.9000e+02, 0.0000e+00, 1.0000e+00, 2.0000e+00, 4.0000e+01,\n",
            "         2.4000e+01, 1.3000e+01, 1.0000e+00],\n",
            "        [8.5864e+04, 2.6880e+03, 0.0000e+00, 1.0000e+00, 2.0000e+00, 2.0000e+01,\n",
            "         4.1000e+01, 1.4000e+01, 1.0000e+00],\n",
            "        [4.8648e+04, 2.1380e+03, 0.0000e+00, 1.0000e+00, 3.0000e+00, 1.0000e+01,\n",
            "         5.3000e+01, 0.0000e+00, 3.0000e+00],\n",
            "        [1.8040e+03, 1.1320e+03, 0.0000e+00, 1.0000e+00, 2.0000e+00, 2.0000e+01,\n",
            "         3.0000e+01, 1.2000e+01, 2.0000e+00],\n",
            "        [1.3730e+04, 1.2120e+03, 0.0000e+00, 0.0000e+00, 2.0000e+00, 3.0000e+01,\n",
            "         3.7000e+01, 7.0000e+00, 3.0000e+00],\n",
            "        [1.3150e+04, 2.5600e+02, 1.0000e+00, 1.0000e+00, 3.0000e+00, 1.5000e+01,\n",
            "         2.8000e+01, 0.0000e+00, 2.0000e+00],\n",
            "        [5.7687e+04, 1.2120e+03, 0.0000e+00, 1.0000e+00, 2.0000e+00, 3.0000e+01,\n",
            "         4.7000e+01, 0.0000e+00, 2.0000e+00],\n",
            "        [4.1584e+04, 6.2500e+02, 0.0000e+00, 0.0000e+00, 2.0000e+00, 2.0000e+01,\n",
            "         3.6000e+01, 0.0000e+00, 2.0000e+00],\n",
            "        [2.3576e+04, 3.3360e+03, 1.0000e+00, 1.0000e+00, 3.0000e+00, 1.0000e+01,\n",
            "         5.4000e+01, 0.0000e+00, 2.0000e+00],\n",
            "        [3.2021e+04, 7.3100e+02, 0.0000e+00, 1.0000e+00, 2.0000e+00, 6.0000e+01,\n",
            "         1.8000e+01, 1.9000e+01, 2.0000e+00],\n",
            "        [5.4280e+04, 7.8900e+02, 0.0000e+00, 0.0000e+00, 2.0000e+00, 1.0000e+01,\n",
            "         2.8000e+01, 2.0000e+00, 1.0000e+00],\n",
            "        [3.7308e+04, 1.1320e+03, 0.0000e+00, 1.0000e+00, 2.0000e+00, 2.0000e+01,\n",
            "         2.2000e+01, 2.0000e+01, 2.0000e+00],\n",
            "        [2.1535e+04, 2.5410e+03, 0.0000e+00, 0.0000e+00, 2.0000e+00, 1.0000e+01,\n",
            "         2.0000e+01, 2.8000e+01, 1.0000e+00],\n",
            "        [8.9550e+03, 4.4800e+02, 0.0000e+00, 1.0000e+00, 2.0000e+00, 3.0000e+01,\n",
            "         2.3000e+01, 9.0000e+00, 2.0000e+00],\n",
            "        [1.3893e+04, 1.8980e+03, 0.0000e+00, 0.0000e+00, 2.0000e+00, 3.0000e+01,\n",
            "         2.2000e+01, 2.0000e+01, 1.0000e+00],\n",
            "        [4.9818e+04, 5.7700e+02, 0.0000e+00, 1.0000e+00, 2.0000e+00, 2.5000e+01,\n",
            "         1.6000e+01, 1.9000e+01, 2.0000e+00],\n",
            "        [7.2870e+03, 4.8800e+02, 1.0000e+00, 0.0000e+00, 2.0000e+00, 5.0000e+00,\n",
            "         5.0000e+00, 1.7000e+01, 1.0000e+00],\n",
            "        [5.6198e+04, 1.2960e+03, 0.0000e+00, 0.0000e+00, 3.0000e+00, 3.0000e+01,\n",
            "         4.4000e+01, 0.0000e+00, 2.0000e+00],\n",
            "        [6.8281e+04, 3.1100e+02, 1.0000e+00, 0.0000e+00, 2.0000e+00, 2.0000e+01,\n",
            "         2.2000e+01, 2.0000e+00, 1.0000e+00],\n",
            "        [8.8591e+04, 6.7700e+02, 1.0000e+00, 0.0000e+00, 2.0000e+00, 2.0000e+01,\n",
            "         2.0000e+01, 9.0000e+00, 2.0000e+00],\n",
            "        [7.7523e+04, 4.4800e+02, 0.0000e+00, 1.0000e+00, 2.0000e+00, 3.0000e+01,\n",
            "         2.8000e+01, 2.0000e+00, 3.0000e+00],\n",
            "        [4.9376e+04, 1.3850e+03, 0.0000e+00, 0.0000e+00, 2.0000e+00, 2.0000e+01,\n",
            "         3.8000e+01, 7.0000e+00, 2.0000e+00],\n",
            "        [6.4681e+04, 1.6780e+03, 0.0000e+00, 0.0000e+00, 2.0000e+00, 3.0000e+01,\n",
            "         2.0000e+01, 2.3000e+01, 2.0000e+00],\n",
            "        [4.4071e+04, 3.7500e+02, 0.0000e+00, 0.0000e+00, 2.0000e+00, 1.0000e+01,\n",
            "         2.1000e+01, 8.0000e+00, 1.0000e+00],\n",
            "        [2.7613e+04, 6.7700e+02, 1.0000e+00, 0.0000e+00, 2.0000e+00, 5.0000e+00,\n",
            "         1.7000e+01, 1.5000e+01, 1.0000e+00],\n",
            "        [4.5230e+04, 1.6780e+03, 0.0000e+00, 1.0000e+00, 2.0000e+00, 2.5000e+01,\n",
            "         3.3000e+01, 9.0000e+00, 2.0000e+00],\n",
            "        [7.5056e+04, 5.3100e+02, 0.0000e+00, 1.0000e+00, 2.0000e+00, 1.5000e+01,\n",
            "         2.6000e+01, 7.0000e+00, 2.0000e+00],\n",
            "        [8.6130e+04, 1.1320e+03, 1.0000e+00, 0.0000e+00, 2.0000e+00, 1.5000e+01,\n",
            "         2.8000e+01, 1.1000e+01, 3.0000e+00],\n",
            "        [1.1983e+04, 1.3850e+03, 0.0000e+00, 1.0000e+00, 2.0000e+00, 2.0000e+01,\n",
            "         2.8000e+01, 1.9000e+01, 2.0000e+00],\n",
            "        [5.7446e+04, 6.7700e+02, 0.0000e+00, 1.0000e+00, 2.0000e+00, 2.0000e+01,\n",
            "         2.8000e+01, 3.0000e+00, 1.0000e+00],\n",
            "        [4.0425e+04, 4.4800e+02, 1.0000e+00, 0.0000e+00, 2.0000e+00, 2.0000e+01,\n",
            "         2.8000e+01, 5.0000e+00, 3.0000e+00],\n",
            "        [4.4525e+04, 2.1390e+03, 0.0000e+00, 0.0000e+00, 2.0000e+00, 2.5000e+01,\n",
            "         3.4000e+01, 1.8000e+01, 3.0000e+00],\n",
            "        [5.9150e+04, 2.2670e+03, 1.0000e+00, 0.0000e+00, 3.0000e+00, 2.0000e+01,\n",
            "         4.7000e+01, 0.0000e+00, 1.0000e+00],\n",
            "        [3.1844e+04, 3.7500e+02, 0.0000e+00, 1.0000e+00, 2.0000e+00, 1.0000e+01,\n",
            "         1.4000e+01, 1.0000e+01, 3.0000e+00],\n",
            "        [8.5310e+03, 1.1320e+03, 0.0000e+00, 0.0000e+00, 2.0000e+00, 4.5000e+01,\n",
            "         3.6000e+01, 4.0000e+00, 1.0000e+00],\n",
            "        [3.4319e+04, 3.1640e+03, 0.0000e+00, 0.0000e+00, 2.0000e+00, 5.0000e+01,\n",
            "         5.0000e+01, 1.0000e+01, 2.0000e+00],\n",
            "        [4.7799e+04, 1.7860e+03, 0.0000e+00, 1.0000e+00, 2.0000e+00, 4.0000e+01,\n",
            "         4.1000e+01, 2.0000e+00, 1.0000e+00],\n",
            "        [1.7565e+04, 9.1500e+02, 1.0000e+00, 0.0000e+00, 2.0000e+00, 2.0000e+01,\n",
            "         2.0000e+01, 1.4000e+01, 1.0000e+00],\n",
            "        [3.9674e+04, 5.7700e+02, 0.0000e+00, 1.0000e+00, 2.0000e+00, 1.5000e+01,\n",
            "         1.9000e+01, 8.0000e+00, 1.0000e+00],\n",
            "        [5.4989e+04, 7.8900e+02, 0.0000e+00, 1.0000e+00, 2.0000e+00, 3.0000e+01,\n",
            "         2.6000e+01, 4.0000e+00, 2.0000e+00],\n",
            "        [5.0103e+04, 1.1320e+03, 0.0000e+00, 1.0000e+00, 2.0000e+00, 2.0000e+01,\n",
            "         2.2000e+01, 2.1000e+01, 1.0000e+00],\n",
            "        [5.2127e+04, 2.0150e+03, 0.0000e+00, 0.0000e+00, 2.0000e+00, 3.0000e+01,\n",
            "         2.8000e+01, 2.5000e+01, 2.0000e+00]], dtype=torch.float64)\n"
          ],
          "name": "stdout"
        }
      ]
    },
    {
      "cell_type": "code",
      "metadata": {
        "id": "-436xkiiMf3M",
        "colab_type": "code",
        "colab": {}
      },
      "source": [
        ""
      ],
      "execution_count": null,
      "outputs": []
    },
    {
      "cell_type": "code",
      "metadata": {
        "id": "5DFVfSWgQ1mq",
        "colab_type": "code",
        "colab": {}
      },
      "source": [
        "from torch.autograd import Variable"
      ],
      "execution_count": 29,
      "outputs": []
    },
    {
      "cell_type": "code",
      "metadata": {
        "id": "7VWA5gwdMf7M",
        "colab_type": "code",
        "colab": {}
      },
      "source": [
        "X_train = Variable(torch.from_numpy(X_train))\n",
        "X_test = Variable(torch.from_numpy(X_test))\n",
        "y_train = Variable(torch.from_numpy(y_train))\n",
        "y_test = Variable(torch.from_numpy(y_test))"
      ],
      "execution_count": 30,
      "outputs": []
    },
    {
      "cell_type": "code",
      "metadata": {
        "id": "QchKkTRtTJ_k",
        "colab_type": "code",
        "colab": {
          "base_uri": "https://localhost:8080/",
          "height": 235
        },
        "outputId": "297554e0-c711-4cda-b4b2-fb37c989c4a1"
      },
      "source": [
        "X_train"
      ],
      "execution_count": 31,
      "outputs": [
        {
          "output_type": "execute_result",
          "data": {
            "text/plain": [
              "tensor([[2.0300e+02, 1.2120e+03, 0.0000e+00,  ..., 4.7000e+01, 0.0000e+00,\n",
              "         1.0000e+00],\n",
              "        [6.0275e+04, 1.2960e+03, 0.0000e+00,  ..., 2.8000e+01, 5.0000e+00,\n",
              "         2.0000e+00],\n",
              "        [7.3528e+04, 1.7850e+03, 1.0000e+00,  ..., 2.8000e+01, 1.0000e+01,\n",
              "         1.0000e+00],\n",
              "        ...,\n",
              "        [5.9915e+04, 5.3100e+02, 0.0000e+00,  ..., 2.0000e+01, 1.0000e+01,\n",
              "         2.0000e+00],\n",
              "        [7.0258e+04, 1.1320e+03, 0.0000e+00,  ..., 2.0000e+01, 1.8000e+01,\n",
              "         2.0000e+00],\n",
              "        [1.2308e+04, 3.3360e+03, 0.0000e+00,  ..., 2.0000e+01, 3.1000e+01,\n",
              "         1.0000e+00]], dtype=torch.float64)"
            ]
          },
          "metadata": {
            "tags": []
          },
          "execution_count": 31
        }
      ]
    },
    {
      "cell_type": "code",
      "metadata": {
        "id": "CaXJ2OGMPONf",
        "colab_type": "code",
        "colab": {}
      },
      "source": [
        "y_train = y_train.view(y_train.shape[0], 1)\n",
        "y_test = y_test.view(y_test.shape[0], 1)"
      ],
      "execution_count": 32,
      "outputs": []
    },
    {
      "cell_type": "code",
      "metadata": {
        "id": "1l52bHDnTMhQ",
        "colab_type": "code",
        "colab": {
          "base_uri": "https://localhost:8080/",
          "height": 134
        },
        "outputId": "ea26e7ff-dc68-464a-87a3-ad4cafc6fc84"
      },
      "source": [
        "y_train"
      ],
      "execution_count": 33,
      "outputs": [
        {
          "output_type": "execute_result",
          "data": {
            "text/plain": [
              "tensor([[0],\n",
              "        [0],\n",
              "        [0],\n",
              "        ...,\n",
              "        [0],\n",
              "        [0],\n",
              "        [0]])"
            ]
          },
          "metadata": {
            "tags": []
          },
          "execution_count": 33
        }
      ]
    },
    {
      "cell_type": "code",
      "metadata": {
        "id": "4_wKcaCYGTQD",
        "colab_type": "code",
        "colab": {
          "base_uri": "https://localhost:8080/",
          "height": 151
        },
        "outputId": "84eb1cb0-a2dd-42fa-f6eb-ec64feeec1e5"
      },
      "source": [
        "class Model(torch.nn.Module):\n",
        "    def __init__(self):\n",
        "        super(Model, self).__init__()\n",
        "        self.l1 = torch.nn.Linear(9,32)\n",
        "        self.l2 = torch.nn.Linear(32,64)\n",
        "        self.l3 = torch.nn.Linear(64,128)\n",
        "        self.l4 = torch.nn.Linear(128,64)\n",
        "        self.l5 = torch.nn.Linear(64,1)\n",
        "        self.drop = torch.nn.Dropout(0.25)\n",
        "        \n",
        "    def forward(self, x):\n",
        "        x = F.relu(self.l1(x)) \n",
        "        x = F.relu(self.l2(x))\n",
        "        x = F.relu(self.l3(x))\n",
        "        x = F.relu(self.l4(x))\n",
        "        x = F.dropout(x)\n",
        "        \n",
        "        return torch.softmax(self.l5(x), dim = 0)\n",
        "    \n",
        "model = Model()\n",
        "print(model)"
      ],
      "execution_count": 72,
      "outputs": [
        {
          "output_type": "stream",
          "text": [
            "Model(\n",
            "  (l1): Linear(in_features=9, out_features=32, bias=True)\n",
            "  (l2): Linear(in_features=32, out_features=64, bias=True)\n",
            "  (l3): Linear(in_features=64, out_features=128, bias=True)\n",
            "  (l4): Linear(in_features=128, out_features=64, bias=True)\n",
            "  (l5): Linear(in_features=64, out_features=1, bias=True)\n",
            "  (drop): Dropout(p=0.25, inplace=False)\n",
            ")\n"
          ],
          "name": "stdout"
        }
      ]
    },
    {
      "cell_type": "code",
      "metadata": {
        "id": "yH3JIDhUKNfE",
        "colab_type": "code",
        "colab": {
          "base_uri": "https://localhost:8080/",
          "height": 34
        },
        "outputId": "2d16a785-4b62-4f04-9a07-b2c09bfa4983"
      },
      "source": [
        "optimizer = torch.optim.Adam(model.parameters(), lr = 0.001)\n",
        "\n",
        "criterion = nn.BCELoss()\n",
        "\n",
        "\n",
        "for epoch in range(3):\n",
        "  y_pred = model(X_train.float())\n",
        "  loss = criterion(y_pred, y_train.float())\n",
        "\n",
        "  # zero gradients\n",
        "  optimizer.zero_grad()\n",
        "\n",
        "  # backward pass\n",
        "  loss.backward()\n",
        "\n",
        "  # updated for weights \n",
        "  optimizer.step()\n",
        "\n",
        "print(loss)"
      ],
      "execution_count": 74,
      "outputs": [
        {
          "output_type": "stream",
          "text": [
            "tensor(19.1561, grad_fn=<BinaryCrossEntropyBackward>)\n"
          ],
          "name": "stdout"
        }
      ]
    },
    {
      "cell_type": "code",
      "metadata": {
        "id": "phLB5tgueCUn",
        "colab_type": "code",
        "colab": {
          "base_uri": "https://localhost:8080/",
          "height": 34
        },
        "outputId": "3ba76d7d-8128-4a56-9922-b79a49f697b0"
      },
      "source": [
        "correct = 0\n",
        "total = 0\n",
        "\n",
        "with torch.no_grad():\n",
        "  output = model(X_train.float())\n",
        "  for idx, i in enumerate(output):\n",
        "    if torch.argmax(i) == y[idx]:\n",
        "\n",
        "      correct += 1\n",
        "    total += 1\n",
        "\n",
        "print(\"Accuracy : \", correct/total * 100)"
      ],
      "execution_count": 75,
      "outputs": [
        {
          "output_type": "stream",
          "text": [
            "Accuracy :  83.32669633118064\n"
          ],
          "name": "stdout"
        }
      ]
    },
    {
      "cell_type": "code",
      "metadata": {
        "id": "dSBvpSwVeCY0",
        "colab_type": "code",
        "colab": {}
      },
      "source": [
        "X_df_test = np.array(df_test)"
      ],
      "execution_count": 91,
      "outputs": []
    },
    {
      "cell_type": "code",
      "metadata": {
        "id": "l9gPgGk8SVtO",
        "colab_type": "code",
        "colab": {}
      },
      "source": [
        "X_df_test = Variable(torch.from_numpy(X_df_test))"
      ],
      "execution_count": 92,
      "outputs": []
    },
    {
      "cell_type": "code",
      "metadata": {
        "id": "03FaLZMpeCSU",
        "colab_type": "code",
        "colab": {}
      },
      "source": [
        "y_pred = model(X_df_test.float())"
      ],
      "execution_count": 93,
      "outputs": []
    },
    {
      "cell_type": "code",
      "metadata": {
        "id": "T3gaWVXdQ_Fe",
        "colab_type": "code",
        "colab": {
          "base_uri": "https://localhost:8080/",
          "height": 34
        },
        "outputId": "e2390451-e068-445d-cf2e-55f231b2948c"
      },
      "source": [
        "y_pred.shape"
      ],
      "execution_count": 94,
      "outputs": [
        {
          "output_type": "execute_result",
          "data": {
            "text/plain": [
              "torch.Size([59310, 1])"
            ]
          },
          "metadata": {
            "tags": []
          },
          "execution_count": 94
        }
      ]
    },
    {
      "cell_type": "code",
      "metadata": {
        "id": "i8vEVj0LRzLx",
        "colab_type": "code",
        "colab": {}
      },
      "source": [
        ""
      ],
      "execution_count": null,
      "outputs": []
    },
    {
      "cell_type": "code",
      "metadata": {
        "id": "z9UsV3AdTSNd",
        "colab_type": "code",
        "colab": {}
      },
      "source": [
        ""
      ],
      "execution_count": null,
      "outputs": []
    }
  ]
}