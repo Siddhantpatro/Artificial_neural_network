{
  "nbformat": 4,
  "nbformat_minor": 0,
  "metadata": {
    "colab": {
      "name": "Breast_cancer_ANN.ipynb",
      "provenance": []
    },
    "kernelspec": {
      "name": "python3",
      "display_name": "Python 3"
    }
  },
  "cells": [
    {
      "cell_type": "code",
      "metadata": {
        "id": "0QEJeFjzztlT",
        "colab_type": "code",
        "colab": {
          "base_uri": "https://localhost:8080/",
          "height": 87
        },
        "outputId": "f12218e1-a2c5-4c6d-ecb5-f989f93d0afe"
      },
      "source": [
        "import pandas as pd\n",
        "import numpy as np\n",
        "import seaborn as sns\n",
        "import pydot\n",
        "import matplotlib.pyplot as plt\n",
        "\n",
        "# Import tensorflow and keras\n",
        "import tensorflow as tf\n",
        "import keras\n",
        "\n",
        "# For creating the model\n",
        "from keras.models import Sequential\n",
        "from keras.layers import Dense, Dropout\n",
        "\n",
        "# For tuning the model\n",
        "from sklearn.model_selection import GridSearchCV\n",
        "from keras.wrappers.scikit_learn import KerasClassifier\n",
        "\n",
        "# For Encoding\n",
        "from sklearn.preprocessing import LabelEncoder\n",
        "\n",
        "# For splitting \n",
        "from sklearn.model_selection import train_test_split\n",
        "\n",
        "# For scaling\n",
        "from sklearn.preprocessing import StandardScaler\n",
        "\n",
        "%matplotlib inline"
      ],
      "execution_count": 1,
      "outputs": [
        {
          "output_type": "stream",
          "text": [
            "/usr/local/lib/python3.6/dist-packages/statsmodels/tools/_testing.py:19: FutureWarning: pandas.util.testing is deprecated. Use the functions in the public API at pandas.testing instead.\n",
            "  import pandas.util.testing as tm\n",
            "Using TensorFlow backend.\n"
          ],
          "name": "stderr"
        }
      ]
    },
    {
      "cell_type": "code",
      "metadata": {
        "id": "zo6l6yjNii8c",
        "colab_type": "code",
        "colab": {}
      },
      "source": [
        ""
      ],
      "execution_count": null,
      "outputs": []
    },
    {
      "cell_type": "markdown",
      "metadata": {
        "id": "pdApgROrikQw",
        "colab_type": "text"
      },
      "source": [
        "**Importing files from local disk.**"
      ]
    },
    {
      "cell_type": "code",
      "metadata": {
        "id": "gFaJhjo33i7v",
        "colab_type": "code",
        "colab": {
          "resources": {
            "http://localhost:8080/nbextensions/google.colab/files.js": {
              "data": "Ly8gQ29weXJpZ2h0IDIwMTcgR29vZ2xlIExMQwovLwovLyBMaWNlbnNlZCB1bmRlciB0aGUgQXBhY2hlIExpY2Vuc2UsIFZlcnNpb24gMi4wICh0aGUgIkxpY2Vuc2UiKTsKLy8geW91IG1heSBub3QgdXNlIHRoaXMgZmlsZSBleGNlcHQgaW4gY29tcGxpYW5jZSB3aXRoIHRoZSBMaWNlbnNlLgovLyBZb3UgbWF5IG9idGFpbiBhIGNvcHkgb2YgdGhlIExpY2Vuc2UgYXQKLy8KLy8gICAgICBodHRwOi8vd3d3LmFwYWNoZS5vcmcvbGljZW5zZXMvTElDRU5TRS0yLjAKLy8KLy8gVW5sZXNzIHJlcXVpcmVkIGJ5IGFwcGxpY2FibGUgbGF3IG9yIGFncmVlZCB0byBpbiB3cml0aW5nLCBzb2Z0d2FyZQovLyBkaXN0cmlidXRlZCB1bmRlciB0aGUgTGljZW5zZSBpcyBkaXN0cmlidXRlZCBvbiBhbiAiQVMgSVMiIEJBU0lTLAovLyBXSVRIT1VUIFdBUlJBTlRJRVMgT1IgQ09ORElUSU9OUyBPRiBBTlkgS0lORCwgZWl0aGVyIGV4cHJlc3Mgb3IgaW1wbGllZC4KLy8gU2VlIHRoZSBMaWNlbnNlIGZvciB0aGUgc3BlY2lmaWMgbGFuZ3VhZ2UgZ292ZXJuaW5nIHBlcm1pc3Npb25zIGFuZAovLyBsaW1pdGF0aW9ucyB1bmRlciB0aGUgTGljZW5zZS4KCi8qKgogKiBAZmlsZW92ZXJ2aWV3IEhlbHBlcnMgZm9yIGdvb2dsZS5jb2xhYiBQeXRob24gbW9kdWxlLgogKi8KKGZ1bmN0aW9uKHNjb3BlKSB7CmZ1bmN0aW9uIHNwYW4odGV4dCwgc3R5bGVBdHRyaWJ1dGVzID0ge30pIHsKICBjb25zdCBlbGVtZW50ID0gZG9jdW1lbnQuY3JlYXRlRWxlbWVudCgnc3BhbicpOwogIGVsZW1lbnQudGV4dENvbnRlbnQgPSB0ZXh0OwogIGZvciAoY29uc3Qga2V5IG9mIE9iamVjdC5rZXlzKHN0eWxlQXR0cmlidXRlcykpIHsKICAgIGVsZW1lbnQuc3R5bGVba2V5XSA9IHN0eWxlQXR0cmlidXRlc1trZXldOwogIH0KICByZXR1cm4gZWxlbWVudDsKfQoKLy8gTWF4IG51bWJlciBvZiBieXRlcyB3aGljaCB3aWxsIGJlIHVwbG9hZGVkIGF0IGEgdGltZS4KY29uc3QgTUFYX1BBWUxPQURfU0laRSA9IDEwMCAqIDEwMjQ7CgpmdW5jdGlvbiBfdXBsb2FkRmlsZXMoaW5wdXRJZCwgb3V0cHV0SWQpIHsKICBjb25zdCBzdGVwcyA9IHVwbG9hZEZpbGVzU3RlcChpbnB1dElkLCBvdXRwdXRJZCk7CiAgY29uc3Qgb3V0cHV0RWxlbWVudCA9IGRvY3VtZW50LmdldEVsZW1lbnRCeUlkKG91dHB1dElkKTsKICAvLyBDYWNoZSBzdGVwcyBvbiB0aGUgb3V0cHV0RWxlbWVudCB0byBtYWtlIGl0IGF2YWlsYWJsZSBmb3IgdGhlIG5leHQgY2FsbAogIC8vIHRvIHVwbG9hZEZpbGVzQ29udGludWUgZnJvbSBQeXRob24uCiAgb3V0cHV0RWxlbWVudC5zdGVwcyA9IHN0ZXBzOwoKICByZXR1cm4gX3VwbG9hZEZpbGVzQ29udGludWUob3V0cHV0SWQpOwp9CgovLyBUaGlzIGlzIHJvdWdobHkgYW4gYXN5bmMgZ2VuZXJhdG9yIChub3Qgc3VwcG9ydGVkIGluIHRoZSBicm93c2VyIHlldCksCi8vIHdoZXJlIHRoZXJlIGFyZSBtdWx0aXBsZSBhc3luY2hyb25vdXMgc3RlcHMgYW5kIHRoZSBQeXRob24gc2lkZSBpcyBnb2luZwovLyB0byBwb2xsIGZvciBjb21wbGV0aW9uIG9mIGVhY2ggc3RlcC4KLy8gVGhpcyB1c2VzIGEgUHJvbWlzZSB0byBibG9jayB0aGUgcHl0aG9uIHNpZGUgb24gY29tcGxldGlvbiBvZiBlYWNoIHN0ZXAsCi8vIHRoZW4gcGFzc2VzIHRoZSByZXN1bHQgb2YgdGhlIHByZXZpb3VzIHN0ZXAgYXMgdGhlIGlucHV0IHRvIHRoZSBuZXh0IHN0ZXAuCmZ1bmN0aW9uIF91cGxvYWRGaWxlc0NvbnRpbnVlKG91dHB1dElkKSB7CiAgY29uc3Qgb3V0cHV0RWxlbWVudCA9IGRvY3VtZW50LmdldEVsZW1lbnRCeUlkKG91dHB1dElkKTsKICBjb25zdCBzdGVwcyA9IG91dHB1dEVsZW1lbnQuc3RlcHM7CgogIGNvbnN0IG5leHQgPSBzdGVwcy5uZXh0KG91dHB1dEVsZW1lbnQubGFzdFByb21pc2VWYWx1ZSk7CiAgcmV0dXJuIFByb21pc2UucmVzb2x2ZShuZXh0LnZhbHVlLnByb21pc2UpLnRoZW4oKHZhbHVlKSA9PiB7CiAgICAvLyBDYWNoZSB0aGUgbGFzdCBwcm9taXNlIHZhbHVlIHRvIG1ha2UgaXQgYXZhaWxhYmxlIHRvIHRoZSBuZXh0CiAgICAvLyBzdGVwIG9mIHRoZSBnZW5lcmF0b3IuCiAgICBvdXRwdXRFbGVtZW50Lmxhc3RQcm9taXNlVmFsdWUgPSB2YWx1ZTsKICAgIHJldHVybiBuZXh0LnZhbHVlLnJlc3BvbnNlOwogIH0pOwp9CgovKioKICogR2VuZXJhdG9yIGZ1bmN0aW9uIHdoaWNoIGlzIGNhbGxlZCBiZXR3ZWVuIGVhY2ggYXN5bmMgc3RlcCBvZiB0aGUgdXBsb2FkCiAqIHByb2Nlc3MuCiAqIEBwYXJhbSB7c3RyaW5nfSBpbnB1dElkIEVsZW1lbnQgSUQgb2YgdGhlIGlucHV0IGZpbGUgcGlja2VyIGVsZW1lbnQuCiAqIEBwYXJhbSB7c3RyaW5nfSBvdXRwdXRJZCBFbGVtZW50IElEIG9mIHRoZSBvdXRwdXQgZGlzcGxheS4KICogQHJldHVybiB7IUl0ZXJhYmxlPCFPYmplY3Q+fSBJdGVyYWJsZSBvZiBuZXh0IHN0ZXBzLgogKi8KZnVuY3Rpb24qIHVwbG9hZEZpbGVzU3RlcChpbnB1dElkLCBvdXRwdXRJZCkgewogIGNvbnN0IGlucHV0RWxlbWVudCA9IGRvY3VtZW50LmdldEVsZW1lbnRCeUlkKGlucHV0SWQpOwogIGlucHV0RWxlbWVudC5kaXNhYmxlZCA9IGZhbHNlOwoKICBjb25zdCBvdXRwdXRFbGVtZW50ID0gZG9jdW1lbnQuZ2V0RWxlbWVudEJ5SWQob3V0cHV0SWQpOwogIG91dHB1dEVsZW1lbnQuaW5uZXJIVE1MID0gJyc7CgogIGNvbnN0IHBpY2tlZFByb21pc2UgPSBuZXcgUHJvbWlzZSgocmVzb2x2ZSkgPT4gewogICAgaW5wdXRFbGVtZW50LmFkZEV2ZW50TGlzdGVuZXIoJ2NoYW5nZScsIChlKSA9PiB7CiAgICAgIHJlc29sdmUoZS50YXJnZXQuZmlsZXMpOwogICAgfSk7CiAgfSk7CgogIGNvbnN0IGNhbmNlbCA9IGRvY3VtZW50LmNyZWF0ZUVsZW1lbnQoJ2J1dHRvbicpOwogIGlucHV0RWxlbWVudC5wYXJlbnRFbGVtZW50LmFwcGVuZENoaWxkKGNhbmNlbCk7CiAgY2FuY2VsLnRleHRDb250ZW50ID0gJ0NhbmNlbCB1cGxvYWQnOwogIGNvbnN0IGNhbmNlbFByb21pc2UgPSBuZXcgUHJvbWlzZSgocmVzb2x2ZSkgPT4gewogICAgY2FuY2VsLm9uY2xpY2sgPSAoKSA9PiB7CiAgICAgIHJlc29sdmUobnVsbCk7CiAgICB9OwogIH0pOwoKICAvLyBXYWl0IGZvciB0aGUgdXNlciB0byBwaWNrIHRoZSBmaWxlcy4KICBjb25zdCBmaWxlcyA9IHlpZWxkIHsKICAgIHByb21pc2U6IFByb21pc2UucmFjZShbcGlja2VkUHJvbWlzZSwgY2FuY2VsUHJvbWlzZV0pLAogICAgcmVzcG9uc2U6IHsKICAgICAgYWN0aW9uOiAnc3RhcnRpbmcnLAogICAgfQogIH07CgogIGNhbmNlbC5yZW1vdmUoKTsKCiAgLy8gRGlzYWJsZSB0aGUgaW5wdXQgZWxlbWVudCBzaW5jZSBmdXJ0aGVyIHBpY2tzIGFyZSBub3QgYWxsb3dlZC4KICBpbnB1dEVsZW1lbnQuZGlzYWJsZWQgPSB0cnVlOwoKICBpZiAoIWZpbGVzKSB7CiAgICByZXR1cm4gewogICAgICByZXNwb25zZTogewogICAgICAgIGFjdGlvbjogJ2NvbXBsZXRlJywKICAgICAgfQogICAgfTsKICB9CgogIGZvciAoY29uc3QgZmlsZSBvZiBmaWxlcykgewogICAgY29uc3QgbGkgPSBkb2N1bWVudC5jcmVhdGVFbGVtZW50KCdsaScpOwogICAgbGkuYXBwZW5kKHNwYW4oZmlsZS5uYW1lLCB7Zm9udFdlaWdodDogJ2JvbGQnfSkpOwogICAgbGkuYXBwZW5kKHNwYW4oCiAgICAgICAgYCgke2ZpbGUudHlwZSB8fCAnbi9hJ30pIC0gJHtmaWxlLnNpemV9IGJ5dGVzLCBgICsKICAgICAgICBgbGFzdCBtb2RpZmllZDogJHsKICAgICAgICAgICAgZmlsZS5sYXN0TW9kaWZpZWREYXRlID8gZmlsZS5sYXN0TW9kaWZpZWREYXRlLnRvTG9jYWxlRGF0ZVN0cmluZygpIDoKICAgICAgICAgICAgICAgICAgICAgICAgICAgICAgICAgICAgJ24vYSd9IC0gYCkpOwogICAgY29uc3QgcGVyY2VudCA9IHNwYW4oJzAlIGRvbmUnKTsKICAgIGxpLmFwcGVuZENoaWxkKHBlcmNlbnQpOwoKICAgIG91dHB1dEVsZW1lbnQuYXBwZW5kQ2hpbGQobGkpOwoKICAgIGNvbnN0IGZpbGVEYXRhUHJvbWlzZSA9IG5ldyBQcm9taXNlKChyZXNvbHZlKSA9PiB7CiAgICAgIGNvbnN0IHJlYWRlciA9IG5ldyBGaWxlUmVhZGVyKCk7CiAgICAgIHJlYWRlci5vbmxvYWQgPSAoZSkgPT4gewogICAgICAgIHJlc29sdmUoZS50YXJnZXQucmVzdWx0KTsKICAgICAgfTsKICAgICAgcmVhZGVyLnJlYWRBc0FycmF5QnVmZmVyKGZpbGUpOwogICAgfSk7CiAgICAvLyBXYWl0IGZvciB0aGUgZGF0YSB0byBiZSByZWFkeS4KICAgIGxldCBmaWxlRGF0YSA9IHlpZWxkIHsKICAgICAgcHJvbWlzZTogZmlsZURhdGFQcm9taXNlLAogICAgICByZXNwb25zZTogewogICAgICAgIGFjdGlvbjogJ2NvbnRpbnVlJywKICAgICAgfQogICAgfTsKCiAgICAvLyBVc2UgYSBjaHVua2VkIHNlbmRpbmcgdG8gYXZvaWQgbWVzc2FnZSBzaXplIGxpbWl0cy4gU2VlIGIvNjIxMTU2NjAuCiAgICBsZXQgcG9zaXRpb24gPSAwOwogICAgd2hpbGUgKHBvc2l0aW9uIDwgZmlsZURhdGEuYnl0ZUxlbmd0aCkgewogICAgICBjb25zdCBsZW5ndGggPSBNYXRoLm1pbihmaWxlRGF0YS5ieXRlTGVuZ3RoIC0gcG9zaXRpb24sIE1BWF9QQVlMT0FEX1NJWkUpOwogICAgICBjb25zdCBjaHVuayA9IG5ldyBVaW50OEFycmF5KGZpbGVEYXRhLCBwb3NpdGlvbiwgbGVuZ3RoKTsKICAgICAgcG9zaXRpb24gKz0gbGVuZ3RoOwoKICAgICAgY29uc3QgYmFzZTY0ID0gYnRvYShTdHJpbmcuZnJvbUNoYXJDb2RlLmFwcGx5KG51bGwsIGNodW5rKSk7CiAgICAgIHlpZWxkIHsKICAgICAgICByZXNwb25zZTogewogICAgICAgICAgYWN0aW9uOiAnYXBwZW5kJywKICAgICAgICAgIGZpbGU6IGZpbGUubmFtZSwKICAgICAgICAgIGRhdGE6IGJhc2U2NCwKICAgICAgICB9LAogICAgICB9OwogICAgICBwZXJjZW50LnRleHRDb250ZW50ID0KICAgICAgICAgIGAke01hdGgucm91bmQoKHBvc2l0aW9uIC8gZmlsZURhdGEuYnl0ZUxlbmd0aCkgKiAxMDApfSUgZG9uZWA7CiAgICB9CiAgfQoKICAvLyBBbGwgZG9uZS4KICB5aWVsZCB7CiAgICByZXNwb25zZTogewogICAgICBhY3Rpb246ICdjb21wbGV0ZScsCiAgICB9CiAgfTsKfQoKc2NvcGUuZ29vZ2xlID0gc2NvcGUuZ29vZ2xlIHx8IHt9OwpzY29wZS5nb29nbGUuY29sYWIgPSBzY29wZS5nb29nbGUuY29sYWIgfHwge307CnNjb3BlLmdvb2dsZS5jb2xhYi5fZmlsZXMgPSB7CiAgX3VwbG9hZEZpbGVzLAogIF91cGxvYWRGaWxlc0NvbnRpbnVlLAp9Owp9KShzZWxmKTsK",
              "ok": true,
              "headers": [
                [
                  "content-type",
                  "application/javascript"
                ]
              ],
              "status": 200,
              "status_text": ""
            }
          },
          "base_uri": "https://localhost:8080/",
          "height": 73
        },
        "outputId": "42505cd7-887f-4481-ed47-3c4996bc3119"
      },
      "source": [
        "from google.colab import files\n",
        "uploaded = files.upload()"
      ],
      "execution_count": 2,
      "outputs": [
        {
          "output_type": "display_data",
          "data": {
            "text/html": [
              "\n",
              "     <input type=\"file\" id=\"files-2f9e9403-f4d5-4719-8d68-0007d39dfac1\" name=\"files[]\" multiple disabled\n",
              "        style=\"border:none\" />\n",
              "     <output id=\"result-2f9e9403-f4d5-4719-8d68-0007d39dfac1\">\n",
              "      Upload widget is only available when the cell has been executed in the\n",
              "      current browser session. Please rerun this cell to enable.\n",
              "      </output>\n",
              "      <script src=\"/nbextensions/google.colab/files.js\"></script> "
            ],
            "text/plain": [
              "<IPython.core.display.HTML object>"
            ]
          },
          "metadata": {
            "tags": []
          }
        },
        {
          "output_type": "stream",
          "text": [
            "Saving Breast_cancer.csv to Breast_cancer (3).csv\n"
          ],
          "name": "stdout"
        }
      ]
    },
    {
      "cell_type": "code",
      "metadata": {
        "id": "tZBcUav-4S2w",
        "colab_type": "code",
        "colab": {}
      },
      "source": [
        "import io\n",
        "df = pd.read_csv(io.BytesIO(uploaded['Breast_cancer.csv']))"
      ],
      "execution_count": 3,
      "outputs": []
    },
    {
      "cell_type": "code",
      "metadata": {
        "id": "7PMfm4T9iziX",
        "colab_type": "code",
        "colab": {}
      },
      "source": [
        ""
      ],
      "execution_count": null,
      "outputs": []
    },
    {
      "cell_type": "code",
      "metadata": {
        "id": "NoJLK8a24p2u",
        "colab_type": "code",
        "colab": {
          "base_uri": "https://localhost:8080/",
          "height": 397
        },
        "outputId": "7dc2002b-b04a-470d-d99c-f4fb2e87db3d"
      },
      "source": [
        "print(df.shape)\n",
        "df.head(10)"
      ],
      "execution_count": 4,
      "outputs": [
        {
          "output_type": "stream",
          "text": [
            "(569, 33)\n"
          ],
          "name": "stdout"
        },
        {
          "output_type": "execute_result",
          "data": {
            "text/html": [
              "<div>\n",
              "<style scoped>\n",
              "    .dataframe tbody tr th:only-of-type {\n",
              "        vertical-align: middle;\n",
              "    }\n",
              "\n",
              "    .dataframe tbody tr th {\n",
              "        vertical-align: top;\n",
              "    }\n",
              "\n",
              "    .dataframe thead th {\n",
              "        text-align: right;\n",
              "    }\n",
              "</style>\n",
              "<table border=\"1\" class=\"dataframe\">\n",
              "  <thead>\n",
              "    <tr style=\"text-align: right;\">\n",
              "      <th></th>\n",
              "      <th>id</th>\n",
              "      <th>diagnosis</th>\n",
              "      <th>radius_mean</th>\n",
              "      <th>texture_mean</th>\n",
              "      <th>perimeter_mean</th>\n",
              "      <th>area_mean</th>\n",
              "      <th>smoothness_mean</th>\n",
              "      <th>compactness_mean</th>\n",
              "      <th>concavity_mean</th>\n",
              "      <th>concave points_mean</th>\n",
              "      <th>symmetry_mean</th>\n",
              "      <th>fractal_dimension_mean</th>\n",
              "      <th>radius_se</th>\n",
              "      <th>texture_se</th>\n",
              "      <th>perimeter_se</th>\n",
              "      <th>area_se</th>\n",
              "      <th>smoothness_se</th>\n",
              "      <th>compactness_se</th>\n",
              "      <th>concavity_se</th>\n",
              "      <th>concave points_se</th>\n",
              "      <th>symmetry_se</th>\n",
              "      <th>fractal_dimension_se</th>\n",
              "      <th>radius_worst</th>\n",
              "      <th>texture_worst</th>\n",
              "      <th>perimeter_worst</th>\n",
              "      <th>area_worst</th>\n",
              "      <th>smoothness_worst</th>\n",
              "      <th>compactness_worst</th>\n",
              "      <th>concavity_worst</th>\n",
              "      <th>concave points_worst</th>\n",
              "      <th>symmetry_worst</th>\n",
              "      <th>fractal_dimension_worst</th>\n",
              "      <th>Unnamed: 32</th>\n",
              "    </tr>\n",
              "  </thead>\n",
              "  <tbody>\n",
              "    <tr>\n",
              "      <th>0</th>\n",
              "      <td>842302</td>\n",
              "      <td>M</td>\n",
              "      <td>17.99</td>\n",
              "      <td>10.38</td>\n",
              "      <td>122.80</td>\n",
              "      <td>1001.0</td>\n",
              "      <td>0.11840</td>\n",
              "      <td>0.27760</td>\n",
              "      <td>0.30010</td>\n",
              "      <td>0.14710</td>\n",
              "      <td>0.2419</td>\n",
              "      <td>0.07871</td>\n",
              "      <td>1.0950</td>\n",
              "      <td>0.9053</td>\n",
              "      <td>8.589</td>\n",
              "      <td>153.40</td>\n",
              "      <td>0.006399</td>\n",
              "      <td>0.04904</td>\n",
              "      <td>0.05373</td>\n",
              "      <td>0.01587</td>\n",
              "      <td>0.03003</td>\n",
              "      <td>0.006193</td>\n",
              "      <td>25.38</td>\n",
              "      <td>17.33</td>\n",
              "      <td>184.60</td>\n",
              "      <td>2019.0</td>\n",
              "      <td>0.1622</td>\n",
              "      <td>0.6656</td>\n",
              "      <td>0.7119</td>\n",
              "      <td>0.2654</td>\n",
              "      <td>0.4601</td>\n",
              "      <td>0.11890</td>\n",
              "      <td>NaN</td>\n",
              "    </tr>\n",
              "    <tr>\n",
              "      <th>1</th>\n",
              "      <td>842517</td>\n",
              "      <td>M</td>\n",
              "      <td>20.57</td>\n",
              "      <td>17.77</td>\n",
              "      <td>132.90</td>\n",
              "      <td>1326.0</td>\n",
              "      <td>0.08474</td>\n",
              "      <td>0.07864</td>\n",
              "      <td>0.08690</td>\n",
              "      <td>0.07017</td>\n",
              "      <td>0.1812</td>\n",
              "      <td>0.05667</td>\n",
              "      <td>0.5435</td>\n",
              "      <td>0.7339</td>\n",
              "      <td>3.398</td>\n",
              "      <td>74.08</td>\n",
              "      <td>0.005225</td>\n",
              "      <td>0.01308</td>\n",
              "      <td>0.01860</td>\n",
              "      <td>0.01340</td>\n",
              "      <td>0.01389</td>\n",
              "      <td>0.003532</td>\n",
              "      <td>24.99</td>\n",
              "      <td>23.41</td>\n",
              "      <td>158.80</td>\n",
              "      <td>1956.0</td>\n",
              "      <td>0.1238</td>\n",
              "      <td>0.1866</td>\n",
              "      <td>0.2416</td>\n",
              "      <td>0.1860</td>\n",
              "      <td>0.2750</td>\n",
              "      <td>0.08902</td>\n",
              "      <td>NaN</td>\n",
              "    </tr>\n",
              "    <tr>\n",
              "      <th>2</th>\n",
              "      <td>84300903</td>\n",
              "      <td>M</td>\n",
              "      <td>19.69</td>\n",
              "      <td>21.25</td>\n",
              "      <td>130.00</td>\n",
              "      <td>1203.0</td>\n",
              "      <td>0.10960</td>\n",
              "      <td>0.15990</td>\n",
              "      <td>0.19740</td>\n",
              "      <td>0.12790</td>\n",
              "      <td>0.2069</td>\n",
              "      <td>0.05999</td>\n",
              "      <td>0.7456</td>\n",
              "      <td>0.7869</td>\n",
              "      <td>4.585</td>\n",
              "      <td>94.03</td>\n",
              "      <td>0.006150</td>\n",
              "      <td>0.04006</td>\n",
              "      <td>0.03832</td>\n",
              "      <td>0.02058</td>\n",
              "      <td>0.02250</td>\n",
              "      <td>0.004571</td>\n",
              "      <td>23.57</td>\n",
              "      <td>25.53</td>\n",
              "      <td>152.50</td>\n",
              "      <td>1709.0</td>\n",
              "      <td>0.1444</td>\n",
              "      <td>0.4245</td>\n",
              "      <td>0.4504</td>\n",
              "      <td>0.2430</td>\n",
              "      <td>0.3613</td>\n",
              "      <td>0.08758</td>\n",
              "      <td>NaN</td>\n",
              "    </tr>\n",
              "    <tr>\n",
              "      <th>3</th>\n",
              "      <td>84348301</td>\n",
              "      <td>M</td>\n",
              "      <td>11.42</td>\n",
              "      <td>20.38</td>\n",
              "      <td>77.58</td>\n",
              "      <td>386.1</td>\n",
              "      <td>0.14250</td>\n",
              "      <td>0.28390</td>\n",
              "      <td>0.24140</td>\n",
              "      <td>0.10520</td>\n",
              "      <td>0.2597</td>\n",
              "      <td>0.09744</td>\n",
              "      <td>0.4956</td>\n",
              "      <td>1.1560</td>\n",
              "      <td>3.445</td>\n",
              "      <td>27.23</td>\n",
              "      <td>0.009110</td>\n",
              "      <td>0.07458</td>\n",
              "      <td>0.05661</td>\n",
              "      <td>0.01867</td>\n",
              "      <td>0.05963</td>\n",
              "      <td>0.009208</td>\n",
              "      <td>14.91</td>\n",
              "      <td>26.50</td>\n",
              "      <td>98.87</td>\n",
              "      <td>567.7</td>\n",
              "      <td>0.2098</td>\n",
              "      <td>0.8663</td>\n",
              "      <td>0.6869</td>\n",
              "      <td>0.2575</td>\n",
              "      <td>0.6638</td>\n",
              "      <td>0.17300</td>\n",
              "      <td>NaN</td>\n",
              "    </tr>\n",
              "    <tr>\n",
              "      <th>4</th>\n",
              "      <td>84358402</td>\n",
              "      <td>M</td>\n",
              "      <td>20.29</td>\n",
              "      <td>14.34</td>\n",
              "      <td>135.10</td>\n",
              "      <td>1297.0</td>\n",
              "      <td>0.10030</td>\n",
              "      <td>0.13280</td>\n",
              "      <td>0.19800</td>\n",
              "      <td>0.10430</td>\n",
              "      <td>0.1809</td>\n",
              "      <td>0.05883</td>\n",
              "      <td>0.7572</td>\n",
              "      <td>0.7813</td>\n",
              "      <td>5.438</td>\n",
              "      <td>94.44</td>\n",
              "      <td>0.011490</td>\n",
              "      <td>0.02461</td>\n",
              "      <td>0.05688</td>\n",
              "      <td>0.01885</td>\n",
              "      <td>0.01756</td>\n",
              "      <td>0.005115</td>\n",
              "      <td>22.54</td>\n",
              "      <td>16.67</td>\n",
              "      <td>152.20</td>\n",
              "      <td>1575.0</td>\n",
              "      <td>0.1374</td>\n",
              "      <td>0.2050</td>\n",
              "      <td>0.4000</td>\n",
              "      <td>0.1625</td>\n",
              "      <td>0.2364</td>\n",
              "      <td>0.07678</td>\n",
              "      <td>NaN</td>\n",
              "    </tr>\n",
              "    <tr>\n",
              "      <th>5</th>\n",
              "      <td>843786</td>\n",
              "      <td>M</td>\n",
              "      <td>12.45</td>\n",
              "      <td>15.70</td>\n",
              "      <td>82.57</td>\n",
              "      <td>477.1</td>\n",
              "      <td>0.12780</td>\n",
              "      <td>0.17000</td>\n",
              "      <td>0.15780</td>\n",
              "      <td>0.08089</td>\n",
              "      <td>0.2087</td>\n",
              "      <td>0.07613</td>\n",
              "      <td>0.3345</td>\n",
              "      <td>0.8902</td>\n",
              "      <td>2.217</td>\n",
              "      <td>27.19</td>\n",
              "      <td>0.007510</td>\n",
              "      <td>0.03345</td>\n",
              "      <td>0.03672</td>\n",
              "      <td>0.01137</td>\n",
              "      <td>0.02165</td>\n",
              "      <td>0.005082</td>\n",
              "      <td>15.47</td>\n",
              "      <td>23.75</td>\n",
              "      <td>103.40</td>\n",
              "      <td>741.6</td>\n",
              "      <td>0.1791</td>\n",
              "      <td>0.5249</td>\n",
              "      <td>0.5355</td>\n",
              "      <td>0.1741</td>\n",
              "      <td>0.3985</td>\n",
              "      <td>0.12440</td>\n",
              "      <td>NaN</td>\n",
              "    </tr>\n",
              "    <tr>\n",
              "      <th>6</th>\n",
              "      <td>844359</td>\n",
              "      <td>M</td>\n",
              "      <td>18.25</td>\n",
              "      <td>19.98</td>\n",
              "      <td>119.60</td>\n",
              "      <td>1040.0</td>\n",
              "      <td>0.09463</td>\n",
              "      <td>0.10900</td>\n",
              "      <td>0.11270</td>\n",
              "      <td>0.07400</td>\n",
              "      <td>0.1794</td>\n",
              "      <td>0.05742</td>\n",
              "      <td>0.4467</td>\n",
              "      <td>0.7732</td>\n",
              "      <td>3.180</td>\n",
              "      <td>53.91</td>\n",
              "      <td>0.004314</td>\n",
              "      <td>0.01382</td>\n",
              "      <td>0.02254</td>\n",
              "      <td>0.01039</td>\n",
              "      <td>0.01369</td>\n",
              "      <td>0.002179</td>\n",
              "      <td>22.88</td>\n",
              "      <td>27.66</td>\n",
              "      <td>153.20</td>\n",
              "      <td>1606.0</td>\n",
              "      <td>0.1442</td>\n",
              "      <td>0.2576</td>\n",
              "      <td>0.3784</td>\n",
              "      <td>0.1932</td>\n",
              "      <td>0.3063</td>\n",
              "      <td>0.08368</td>\n",
              "      <td>NaN</td>\n",
              "    </tr>\n",
              "    <tr>\n",
              "      <th>7</th>\n",
              "      <td>84458202</td>\n",
              "      <td>M</td>\n",
              "      <td>13.71</td>\n",
              "      <td>20.83</td>\n",
              "      <td>90.20</td>\n",
              "      <td>577.9</td>\n",
              "      <td>0.11890</td>\n",
              "      <td>0.16450</td>\n",
              "      <td>0.09366</td>\n",
              "      <td>0.05985</td>\n",
              "      <td>0.2196</td>\n",
              "      <td>0.07451</td>\n",
              "      <td>0.5835</td>\n",
              "      <td>1.3770</td>\n",
              "      <td>3.856</td>\n",
              "      <td>50.96</td>\n",
              "      <td>0.008805</td>\n",
              "      <td>0.03029</td>\n",
              "      <td>0.02488</td>\n",
              "      <td>0.01448</td>\n",
              "      <td>0.01486</td>\n",
              "      <td>0.005412</td>\n",
              "      <td>17.06</td>\n",
              "      <td>28.14</td>\n",
              "      <td>110.60</td>\n",
              "      <td>897.0</td>\n",
              "      <td>0.1654</td>\n",
              "      <td>0.3682</td>\n",
              "      <td>0.2678</td>\n",
              "      <td>0.1556</td>\n",
              "      <td>0.3196</td>\n",
              "      <td>0.11510</td>\n",
              "      <td>NaN</td>\n",
              "    </tr>\n",
              "    <tr>\n",
              "      <th>8</th>\n",
              "      <td>844981</td>\n",
              "      <td>M</td>\n",
              "      <td>13.00</td>\n",
              "      <td>21.82</td>\n",
              "      <td>87.50</td>\n",
              "      <td>519.8</td>\n",
              "      <td>0.12730</td>\n",
              "      <td>0.19320</td>\n",
              "      <td>0.18590</td>\n",
              "      <td>0.09353</td>\n",
              "      <td>0.2350</td>\n",
              "      <td>0.07389</td>\n",
              "      <td>0.3063</td>\n",
              "      <td>1.0020</td>\n",
              "      <td>2.406</td>\n",
              "      <td>24.32</td>\n",
              "      <td>0.005731</td>\n",
              "      <td>0.03502</td>\n",
              "      <td>0.03553</td>\n",
              "      <td>0.01226</td>\n",
              "      <td>0.02143</td>\n",
              "      <td>0.003749</td>\n",
              "      <td>15.49</td>\n",
              "      <td>30.73</td>\n",
              "      <td>106.20</td>\n",
              "      <td>739.3</td>\n",
              "      <td>0.1703</td>\n",
              "      <td>0.5401</td>\n",
              "      <td>0.5390</td>\n",
              "      <td>0.2060</td>\n",
              "      <td>0.4378</td>\n",
              "      <td>0.10720</td>\n",
              "      <td>NaN</td>\n",
              "    </tr>\n",
              "    <tr>\n",
              "      <th>9</th>\n",
              "      <td>84501001</td>\n",
              "      <td>M</td>\n",
              "      <td>12.46</td>\n",
              "      <td>24.04</td>\n",
              "      <td>83.97</td>\n",
              "      <td>475.9</td>\n",
              "      <td>0.11860</td>\n",
              "      <td>0.23960</td>\n",
              "      <td>0.22730</td>\n",
              "      <td>0.08543</td>\n",
              "      <td>0.2030</td>\n",
              "      <td>0.08243</td>\n",
              "      <td>0.2976</td>\n",
              "      <td>1.5990</td>\n",
              "      <td>2.039</td>\n",
              "      <td>23.94</td>\n",
              "      <td>0.007149</td>\n",
              "      <td>0.07217</td>\n",
              "      <td>0.07743</td>\n",
              "      <td>0.01432</td>\n",
              "      <td>0.01789</td>\n",
              "      <td>0.010080</td>\n",
              "      <td>15.09</td>\n",
              "      <td>40.68</td>\n",
              "      <td>97.65</td>\n",
              "      <td>711.4</td>\n",
              "      <td>0.1853</td>\n",
              "      <td>1.0580</td>\n",
              "      <td>1.1050</td>\n",
              "      <td>0.2210</td>\n",
              "      <td>0.4366</td>\n",
              "      <td>0.20750</td>\n",
              "      <td>NaN</td>\n",
              "    </tr>\n",
              "  </tbody>\n",
              "</table>\n",
              "</div>"
            ],
            "text/plain": [
              "         id diagnosis  ...  fractal_dimension_worst  Unnamed: 32\n",
              "0    842302         M  ...                  0.11890          NaN\n",
              "1    842517         M  ...                  0.08902          NaN\n",
              "2  84300903         M  ...                  0.08758          NaN\n",
              "3  84348301         M  ...                  0.17300          NaN\n",
              "4  84358402         M  ...                  0.07678          NaN\n",
              "5    843786         M  ...                  0.12440          NaN\n",
              "6    844359         M  ...                  0.08368          NaN\n",
              "7  84458202         M  ...                  0.11510          NaN\n",
              "8    844981         M  ...                  0.10720          NaN\n",
              "9  84501001         M  ...                  0.20750          NaN\n",
              "\n",
              "[10 rows x 33 columns]"
            ]
          },
          "metadata": {
            "tags": []
          },
          "execution_count": 4
        }
      ]
    },
    {
      "cell_type": "code",
      "metadata": {
        "id": "5MfBdNh87uE3",
        "colab_type": "code",
        "colab": {}
      },
      "source": [
        ""
      ],
      "execution_count": null,
      "outputs": []
    },
    {
      "cell_type": "markdown",
      "metadata": {
        "id": "uuPCweb3gF3w",
        "colab_type": "text"
      },
      "source": [
        "**Data cleaning process.**"
      ]
    },
    {
      "cell_type": "code",
      "metadata": {
        "id": "0N8PhrN64xbb",
        "colab_type": "code",
        "colab": {
          "base_uri": "https://localhost:8080/",
          "height": 689
        },
        "outputId": "004db44a-9bc6-4dbd-b450-cf0a10a32720"
      },
      "source": [
        "df.info()"
      ],
      "execution_count": 5,
      "outputs": [
        {
          "output_type": "stream",
          "text": [
            "<class 'pandas.core.frame.DataFrame'>\n",
            "RangeIndex: 569 entries, 0 to 568\n",
            "Data columns (total 33 columns):\n",
            " #   Column                   Non-Null Count  Dtype  \n",
            "---  ------                   --------------  -----  \n",
            " 0   id                       569 non-null    int64  \n",
            " 1   diagnosis                569 non-null    object \n",
            " 2   radius_mean              569 non-null    float64\n",
            " 3   texture_mean             569 non-null    float64\n",
            " 4   perimeter_mean           569 non-null    float64\n",
            " 5   area_mean                569 non-null    float64\n",
            " 6   smoothness_mean          569 non-null    float64\n",
            " 7   compactness_mean         569 non-null    float64\n",
            " 8   concavity_mean           569 non-null    float64\n",
            " 9   concave points_mean      569 non-null    float64\n",
            " 10  symmetry_mean            569 non-null    float64\n",
            " 11  fractal_dimension_mean   569 non-null    float64\n",
            " 12  radius_se                569 non-null    float64\n",
            " 13  texture_se               569 non-null    float64\n",
            " 14  perimeter_se             569 non-null    float64\n",
            " 15  area_se                  569 non-null    float64\n",
            " 16  smoothness_se            569 non-null    float64\n",
            " 17  compactness_se           569 non-null    float64\n",
            " 18  concavity_se             569 non-null    float64\n",
            " 19  concave points_se        569 non-null    float64\n",
            " 20  symmetry_se              569 non-null    float64\n",
            " 21  fractal_dimension_se     569 non-null    float64\n",
            " 22  radius_worst             569 non-null    float64\n",
            " 23  texture_worst            569 non-null    float64\n",
            " 24  perimeter_worst          569 non-null    float64\n",
            " 25  area_worst               569 non-null    float64\n",
            " 26  smoothness_worst         569 non-null    float64\n",
            " 27  compactness_worst        569 non-null    float64\n",
            " 28  concavity_worst          569 non-null    float64\n",
            " 29  concave points_worst     569 non-null    float64\n",
            " 30  symmetry_worst           569 non-null    float64\n",
            " 31  fractal_dimension_worst  569 non-null    float64\n",
            " 32  Unnamed: 32              0 non-null      float64\n",
            "dtypes: float64(31), int64(1), object(1)\n",
            "memory usage: 146.8+ KB\n"
          ],
          "name": "stdout"
        }
      ]
    },
    {
      "cell_type": "code",
      "metadata": {
        "id": "SQQbbU1q44it",
        "colab_type": "code",
        "colab": {
          "base_uri": "https://localhost:8080/",
          "height": 588
        },
        "outputId": "5eaab6fd-12b5-48ab-dd2a-20edb35f2b84"
      },
      "source": [
        "df.isnull().sum()"
      ],
      "execution_count": 6,
      "outputs": [
        {
          "output_type": "execute_result",
          "data": {
            "text/plain": [
              "id                           0\n",
              "diagnosis                    0\n",
              "radius_mean                  0\n",
              "texture_mean                 0\n",
              "perimeter_mean               0\n",
              "area_mean                    0\n",
              "smoothness_mean              0\n",
              "compactness_mean             0\n",
              "concavity_mean               0\n",
              "concave points_mean          0\n",
              "symmetry_mean                0\n",
              "fractal_dimension_mean       0\n",
              "radius_se                    0\n",
              "texture_se                   0\n",
              "perimeter_se                 0\n",
              "area_se                      0\n",
              "smoothness_se                0\n",
              "compactness_se               0\n",
              "concavity_se                 0\n",
              "concave points_se            0\n",
              "symmetry_se                  0\n",
              "fractal_dimension_se         0\n",
              "radius_worst                 0\n",
              "texture_worst                0\n",
              "perimeter_worst              0\n",
              "area_worst                   0\n",
              "smoothness_worst             0\n",
              "compactness_worst            0\n",
              "concavity_worst              0\n",
              "concave points_worst         0\n",
              "symmetry_worst               0\n",
              "fractal_dimension_worst      0\n",
              "Unnamed: 32                569\n",
              "dtype: int64"
            ]
          },
          "metadata": {
            "tags": []
          },
          "execution_count": 6
        }
      ]
    },
    {
      "cell_type": "code",
      "metadata": {
        "id": "9A5hG_f-47pZ",
        "colab_type": "code",
        "colab": {}
      },
      "source": [
        "df = df.drop('Unnamed: 32', axis = 'columns')"
      ],
      "execution_count": 7,
      "outputs": []
    },
    {
      "cell_type": "code",
      "metadata": {
        "id": "0EqI-e3G7DUk",
        "colab_type": "code",
        "colab": {}
      },
      "source": [
        "encoder = LabelEncoder()"
      ],
      "execution_count": 8,
      "outputs": []
    },
    {
      "cell_type": "code",
      "metadata": {
        "id": "4gfA0Xnk7DYR",
        "colab_type": "code",
        "colab": {}
      },
      "source": [
        "df_New = df.apply(LabelEncoder().fit_transform)"
      ],
      "execution_count": 9,
      "outputs": []
    },
    {
      "cell_type": "code",
      "metadata": {
        "id": "z1L9HRbM7dDk",
        "colab_type": "code",
        "colab": {
          "base_uri": "https://localhost:8080/",
          "height": 232
        },
        "outputId": "65126a1e-3cfa-487f-92d9-78fe94cd6787"
      },
      "source": [
        "df_New.head()"
      ],
      "execution_count": 10,
      "outputs": [
        {
          "output_type": "execute_result",
          "data": {
            "text/html": [
              "<div>\n",
              "<style scoped>\n",
              "    .dataframe tbody tr th:only-of-type {\n",
              "        vertical-align: middle;\n",
              "    }\n",
              "\n",
              "    .dataframe tbody tr th {\n",
              "        vertical-align: top;\n",
              "    }\n",
              "\n",
              "    .dataframe thead th {\n",
              "        text-align: right;\n",
              "    }\n",
              "</style>\n",
              "<table border=\"1\" class=\"dataframe\">\n",
              "  <thead>\n",
              "    <tr style=\"text-align: right;\">\n",
              "      <th></th>\n",
              "      <th>id</th>\n",
              "      <th>diagnosis</th>\n",
              "      <th>radius_mean</th>\n",
              "      <th>texture_mean</th>\n",
              "      <th>perimeter_mean</th>\n",
              "      <th>area_mean</th>\n",
              "      <th>smoothness_mean</th>\n",
              "      <th>compactness_mean</th>\n",
              "      <th>concavity_mean</th>\n",
              "      <th>concave points_mean</th>\n",
              "      <th>symmetry_mean</th>\n",
              "      <th>fractal_dimension_mean</th>\n",
              "      <th>radius_se</th>\n",
              "      <th>texture_se</th>\n",
              "      <th>perimeter_se</th>\n",
              "      <th>area_se</th>\n",
              "      <th>smoothness_se</th>\n",
              "      <th>compactness_se</th>\n",
              "      <th>concavity_se</th>\n",
              "      <th>concave points_se</th>\n",
              "      <th>symmetry_se</th>\n",
              "      <th>fractal_dimension_se</th>\n",
              "      <th>radius_worst</th>\n",
              "      <th>texture_worst</th>\n",
              "      <th>perimeter_worst</th>\n",
              "      <th>area_worst</th>\n",
              "      <th>smoothness_worst</th>\n",
              "      <th>compactness_worst</th>\n",
              "      <th>concavity_worst</th>\n",
              "      <th>concave points_worst</th>\n",
              "      <th>symmetry_worst</th>\n",
              "      <th>fractal_dimension_worst</th>\n",
              "    </tr>\n",
              "  </thead>\n",
              "  <tbody>\n",
              "    <tr>\n",
              "      <th>0</th>\n",
              "      <td>41</td>\n",
              "      <td>1</td>\n",
              "      <td>370</td>\n",
              "      <td>1</td>\n",
              "      <td>455</td>\n",
              "      <td>452</td>\n",
              "      <td>444</td>\n",
              "      <td>531</td>\n",
              "      <td>521</td>\n",
              "      <td>526</td>\n",
              "      <td>416</td>\n",
              "      <td>483</td>\n",
              "      <td>525</td>\n",
              "      <td>169</td>\n",
              "      <td>520</td>\n",
              "      <td>515</td>\n",
              "      <td>277</td>\n",
              "      <td>489</td>\n",
              "      <td>460</td>\n",
              "      <td>400</td>\n",
              "      <td>439</td>\n",
              "      <td>489</td>\n",
              "      <td>425</td>\n",
              "      <td>41</td>\n",
              "      <td>497</td>\n",
              "      <td>516</td>\n",
              "      <td>358</td>\n",
              "      <td>516</td>\n",
              "      <td>520</td>\n",
              "      <td>483</td>\n",
              "      <td>485</td>\n",
              "      <td>506</td>\n",
              "    </tr>\n",
              "    <tr>\n",
              "      <th>1</th>\n",
              "      <td>42</td>\n",
              "      <td>1</td>\n",
              "      <td>426</td>\n",
              "      <td>186</td>\n",
              "      <td>486</td>\n",
              "      <td>513</td>\n",
              "      <td>120</td>\n",
              "      <td>215</td>\n",
              "      <td>321</td>\n",
              "      <td>396</td>\n",
              "      <td>219</td>\n",
              "      <td>91</td>\n",
              "      <td>424</td>\n",
              "      <td>91</td>\n",
              "      <td>396</td>\n",
              "      <td>450</td>\n",
              "      <td>145</td>\n",
              "      <td>135</td>\n",
              "      <td>177</td>\n",
              "      <td>336</td>\n",
              "      <td>81</td>\n",
              "      <td>309</td>\n",
              "      <td>419</td>\n",
              "      <td>199</td>\n",
              "      <td>465</td>\n",
              "      <td>511</td>\n",
              "      <td>158</td>\n",
              "      <td>210</td>\n",
              "      <td>278</td>\n",
              "      <td>401</td>\n",
              "      <td>222</td>\n",
              "      <td>375</td>\n",
              "    </tr>\n",
              "    <tr>\n",
              "      <th>2</th>\n",
              "      <td>488</td>\n",
              "      <td>1</td>\n",
              "      <td>406</td>\n",
              "      <td>324</td>\n",
              "      <td>478</td>\n",
              "      <td>487</td>\n",
              "      <td>403</td>\n",
              "      <td>459</td>\n",
              "      <td>478</td>\n",
              "      <td>516</td>\n",
              "      <td>348</td>\n",
              "      <td>184</td>\n",
              "      <td>481</td>\n",
              "      <td>117</td>\n",
              "      <td>458</td>\n",
              "      <td>476</td>\n",
              "      <td>257</td>\n",
              "      <td>455</td>\n",
              "      <td>368</td>\n",
              "      <td>465</td>\n",
              "      <td>343</td>\n",
              "      <td>407</td>\n",
              "      <td>399</td>\n",
              "      <td>261</td>\n",
              "      <td>455</td>\n",
              "      <td>491</td>\n",
              "      <td>287</td>\n",
              "      <td>464</td>\n",
              "      <td>438</td>\n",
              "      <td>468</td>\n",
              "      <td>445</td>\n",
              "      <td>361</td>\n",
              "    </tr>\n",
              "    <tr>\n",
              "      <th>3</th>\n",
              "      <td>489</td>\n",
              "      <td>1</td>\n",
              "      <td>98</td>\n",
              "      <td>297</td>\n",
              "      <td>164</td>\n",
              "      <td>95</td>\n",
              "      <td>471</td>\n",
              "      <td>533</td>\n",
              "      <td>507</td>\n",
              "      <td>493</td>\n",
              "      <td>426</td>\n",
              "      <td>498</td>\n",
              "      <td>404</td>\n",
              "      <td>278</td>\n",
              "      <td>400</td>\n",
              "      <td>281</td>\n",
              "      <td>451</td>\n",
              "      <td>526</td>\n",
              "      <td>469</td>\n",
              "      <td>450</td>\n",
              "      <td>495</td>\n",
              "      <td>523</td>\n",
              "      <td>215</td>\n",
              "      <td>298</td>\n",
              "      <td>281</td>\n",
              "      <td>194</td>\n",
              "      <td>408</td>\n",
              "      <td>524</td>\n",
              "      <td>511</td>\n",
              "      <td>479</td>\n",
              "      <td>499</td>\n",
              "      <td>533</td>\n",
              "    </tr>\n",
              "    <tr>\n",
              "      <th>4</th>\n",
              "      <td>490</td>\n",
              "      <td>1</td>\n",
              "      <td>418</td>\n",
              "      <td>60</td>\n",
              "      <td>493</td>\n",
              "      <td>506</td>\n",
              "      <td>332</td>\n",
              "      <td>414</td>\n",
              "      <td>480</td>\n",
              "      <td>492</td>\n",
              "      <td>216</td>\n",
              "      <td>147</td>\n",
              "      <td>484</td>\n",
              "      <td>114</td>\n",
              "      <td>485</td>\n",
              "      <td>477</td>\n",
              "      <td>509</td>\n",
              "      <td>319</td>\n",
              "      <td>471</td>\n",
              "      <td>453</td>\n",
              "      <td>208</td>\n",
              "      <td>446</td>\n",
              "      <td>381</td>\n",
              "      <td>28</td>\n",
              "      <td>453</td>\n",
              "      <td>470</td>\n",
              "      <td>239</td>\n",
              "      <td>245</td>\n",
              "      <td>415</td>\n",
              "      <td>363</td>\n",
              "      <td>81</td>\n",
              "      <td>216</td>\n",
              "    </tr>\n",
              "  </tbody>\n",
              "</table>\n",
              "</div>"
            ],
            "text/plain": [
              "    id  diagnosis  ...  symmetry_worst  fractal_dimension_worst\n",
              "0   41          1  ...             485                      506\n",
              "1   42          1  ...             222                      375\n",
              "2  488          1  ...             445                      361\n",
              "3  489          1  ...             499                      533\n",
              "4  490          1  ...              81                      216\n",
              "\n",
              "[5 rows x 32 columns]"
            ]
          },
          "metadata": {
            "tags": []
          },
          "execution_count": 10
        }
      ]
    },
    {
      "cell_type": "code",
      "metadata": {
        "id": "rIpJxejD_M_U",
        "colab_type": "code",
        "colab": {}
      },
      "source": [
        ""
      ],
      "execution_count": null,
      "outputs": []
    },
    {
      "cell_type": "markdown",
      "metadata": {
        "id": "koAJaaBVf35Q",
        "colab_type": "text"
      },
      "source": [
        "**Dividing the dataset into X (independent columns) and y (dependent columns).**"
      ]
    },
    {
      "cell_type": "code",
      "metadata": {
        "id": "mZbMtWOe_NCF",
        "colab_type": "code",
        "colab": {}
      },
      "source": [
        "y = np.array(df_New['diagnosis'])\n",
        "y = y.reshape(-1,1)"
      ],
      "execution_count": 11,
      "outputs": []
    },
    {
      "cell_type": "code",
      "metadata": {
        "id": "2fdWhNTi_NG3",
        "colab_type": "code",
        "colab": {}
      },
      "source": [
        "X = df_New.iloc[:, df_New.columns != 'diagnosis']"
      ],
      "execution_count": 12,
      "outputs": []
    },
    {
      "cell_type": "code",
      "metadata": {
        "id": "5fLLRbBB_NEr",
        "colab_type": "code",
        "colab": {
          "base_uri": "https://localhost:8080/",
          "height": 380
        },
        "outputId": "6cd57149-25f3-484c-dbb4-d7a73aee7b50"
      },
      "source": [
        "X.head(10)"
      ],
      "execution_count": 13,
      "outputs": [
        {
          "output_type": "execute_result",
          "data": {
            "text/html": [
              "<div>\n",
              "<style scoped>\n",
              "    .dataframe tbody tr th:only-of-type {\n",
              "        vertical-align: middle;\n",
              "    }\n",
              "\n",
              "    .dataframe tbody tr th {\n",
              "        vertical-align: top;\n",
              "    }\n",
              "\n",
              "    .dataframe thead th {\n",
              "        text-align: right;\n",
              "    }\n",
              "</style>\n",
              "<table border=\"1\" class=\"dataframe\">\n",
              "  <thead>\n",
              "    <tr style=\"text-align: right;\">\n",
              "      <th></th>\n",
              "      <th>id</th>\n",
              "      <th>radius_mean</th>\n",
              "      <th>texture_mean</th>\n",
              "      <th>perimeter_mean</th>\n",
              "      <th>area_mean</th>\n",
              "      <th>smoothness_mean</th>\n",
              "      <th>compactness_mean</th>\n",
              "      <th>concavity_mean</th>\n",
              "      <th>concave points_mean</th>\n",
              "      <th>symmetry_mean</th>\n",
              "      <th>fractal_dimension_mean</th>\n",
              "      <th>radius_se</th>\n",
              "      <th>texture_se</th>\n",
              "      <th>perimeter_se</th>\n",
              "      <th>area_se</th>\n",
              "      <th>smoothness_se</th>\n",
              "      <th>compactness_se</th>\n",
              "      <th>concavity_se</th>\n",
              "      <th>concave points_se</th>\n",
              "      <th>symmetry_se</th>\n",
              "      <th>fractal_dimension_se</th>\n",
              "      <th>radius_worst</th>\n",
              "      <th>texture_worst</th>\n",
              "      <th>perimeter_worst</th>\n",
              "      <th>area_worst</th>\n",
              "      <th>smoothness_worst</th>\n",
              "      <th>compactness_worst</th>\n",
              "      <th>concavity_worst</th>\n",
              "      <th>concave points_worst</th>\n",
              "      <th>symmetry_worst</th>\n",
              "      <th>fractal_dimension_worst</th>\n",
              "    </tr>\n",
              "  </thead>\n",
              "  <tbody>\n",
              "    <tr>\n",
              "      <th>0</th>\n",
              "      <td>41</td>\n",
              "      <td>370</td>\n",
              "      <td>1</td>\n",
              "      <td>455</td>\n",
              "      <td>452</td>\n",
              "      <td>444</td>\n",
              "      <td>531</td>\n",
              "      <td>521</td>\n",
              "      <td>526</td>\n",
              "      <td>416</td>\n",
              "      <td>483</td>\n",
              "      <td>525</td>\n",
              "      <td>169</td>\n",
              "      <td>520</td>\n",
              "      <td>515</td>\n",
              "      <td>277</td>\n",
              "      <td>489</td>\n",
              "      <td>460</td>\n",
              "      <td>400</td>\n",
              "      <td>439</td>\n",
              "      <td>489</td>\n",
              "      <td>425</td>\n",
              "      <td>41</td>\n",
              "      <td>497</td>\n",
              "      <td>516</td>\n",
              "      <td>358</td>\n",
              "      <td>516</td>\n",
              "      <td>520</td>\n",
              "      <td>483</td>\n",
              "      <td>485</td>\n",
              "      <td>506</td>\n",
              "    </tr>\n",
              "    <tr>\n",
              "      <th>1</th>\n",
              "      <td>42</td>\n",
              "      <td>426</td>\n",
              "      <td>186</td>\n",
              "      <td>486</td>\n",
              "      <td>513</td>\n",
              "      <td>120</td>\n",
              "      <td>215</td>\n",
              "      <td>321</td>\n",
              "      <td>396</td>\n",
              "      <td>219</td>\n",
              "      <td>91</td>\n",
              "      <td>424</td>\n",
              "      <td>91</td>\n",
              "      <td>396</td>\n",
              "      <td>450</td>\n",
              "      <td>145</td>\n",
              "      <td>135</td>\n",
              "      <td>177</td>\n",
              "      <td>336</td>\n",
              "      <td>81</td>\n",
              "      <td>309</td>\n",
              "      <td>419</td>\n",
              "      <td>199</td>\n",
              "      <td>465</td>\n",
              "      <td>511</td>\n",
              "      <td>158</td>\n",
              "      <td>210</td>\n",
              "      <td>278</td>\n",
              "      <td>401</td>\n",
              "      <td>222</td>\n",
              "      <td>375</td>\n",
              "    </tr>\n",
              "    <tr>\n",
              "      <th>2</th>\n",
              "      <td>488</td>\n",
              "      <td>406</td>\n",
              "      <td>324</td>\n",
              "      <td>478</td>\n",
              "      <td>487</td>\n",
              "      <td>403</td>\n",
              "      <td>459</td>\n",
              "      <td>478</td>\n",
              "      <td>516</td>\n",
              "      <td>348</td>\n",
              "      <td>184</td>\n",
              "      <td>481</td>\n",
              "      <td>117</td>\n",
              "      <td>458</td>\n",
              "      <td>476</td>\n",
              "      <td>257</td>\n",
              "      <td>455</td>\n",
              "      <td>368</td>\n",
              "      <td>465</td>\n",
              "      <td>343</td>\n",
              "      <td>407</td>\n",
              "      <td>399</td>\n",
              "      <td>261</td>\n",
              "      <td>455</td>\n",
              "      <td>491</td>\n",
              "      <td>287</td>\n",
              "      <td>464</td>\n",
              "      <td>438</td>\n",
              "      <td>468</td>\n",
              "      <td>445</td>\n",
              "      <td>361</td>\n",
              "    </tr>\n",
              "    <tr>\n",
              "      <th>3</th>\n",
              "      <td>489</td>\n",
              "      <td>98</td>\n",
              "      <td>297</td>\n",
              "      <td>164</td>\n",
              "      <td>95</td>\n",
              "      <td>471</td>\n",
              "      <td>533</td>\n",
              "      <td>507</td>\n",
              "      <td>493</td>\n",
              "      <td>426</td>\n",
              "      <td>498</td>\n",
              "      <td>404</td>\n",
              "      <td>278</td>\n",
              "      <td>400</td>\n",
              "      <td>281</td>\n",
              "      <td>451</td>\n",
              "      <td>526</td>\n",
              "      <td>469</td>\n",
              "      <td>450</td>\n",
              "      <td>495</td>\n",
              "      <td>523</td>\n",
              "      <td>215</td>\n",
              "      <td>298</td>\n",
              "      <td>281</td>\n",
              "      <td>194</td>\n",
              "      <td>408</td>\n",
              "      <td>524</td>\n",
              "      <td>511</td>\n",
              "      <td>479</td>\n",
              "      <td>499</td>\n",
              "      <td>533</td>\n",
              "    </tr>\n",
              "    <tr>\n",
              "      <th>4</th>\n",
              "      <td>490</td>\n",
              "      <td>418</td>\n",
              "      <td>60</td>\n",
              "      <td>493</td>\n",
              "      <td>506</td>\n",
              "      <td>332</td>\n",
              "      <td>414</td>\n",
              "      <td>480</td>\n",
              "      <td>492</td>\n",
              "      <td>216</td>\n",
              "      <td>147</td>\n",
              "      <td>484</td>\n",
              "      <td>114</td>\n",
              "      <td>485</td>\n",
              "      <td>477</td>\n",
              "      <td>509</td>\n",
              "      <td>319</td>\n",
              "      <td>471</td>\n",
              "      <td>453</td>\n",
              "      <td>208</td>\n",
              "      <td>446</td>\n",
              "      <td>381</td>\n",
              "      <td>28</td>\n",
              "      <td>453</td>\n",
              "      <td>470</td>\n",
              "      <td>239</td>\n",
              "      <td>245</td>\n",
              "      <td>415</td>\n",
              "      <td>363</td>\n",
              "      <td>81</td>\n",
              "      <td>216</td>\n",
              "    </tr>\n",
              "    <tr>\n",
              "      <th>5</th>\n",
              "      <td>43</td>\n",
              "      <td>159</td>\n",
              "      <td>107</td>\n",
              "      <td>223</td>\n",
              "      <td>200</td>\n",
              "      <td>463</td>\n",
              "      <td>477</td>\n",
              "      <td>440</td>\n",
              "      <td>423</td>\n",
              "      <td>355</td>\n",
              "      <td>470</td>\n",
              "      <td>278</td>\n",
              "      <td>159</td>\n",
              "      <td>246</td>\n",
              "      <td>280</td>\n",
              "      <td>372</td>\n",
              "      <td>406</td>\n",
              "      <td>357</td>\n",
              "      <td>274</td>\n",
              "      <td>328</td>\n",
              "      <td>444</td>\n",
              "      <td>238</td>\n",
              "      <td>206</td>\n",
              "      <td>309</td>\n",
              "      <td>308</td>\n",
              "      <td>394</td>\n",
              "      <td>492</td>\n",
              "      <td>472</td>\n",
              "      <td>380</td>\n",
              "      <td>466</td>\n",
              "      <td>516</td>\n",
              "    </tr>\n",
              "    <tr>\n",
              "      <th>6</th>\n",
              "      <td>44</td>\n",
              "      <td>376</td>\n",
              "      <td>282</td>\n",
              "      <td>445</td>\n",
              "      <td>458</td>\n",
              "      <td>251</td>\n",
              "      <td>333</td>\n",
              "      <td>374</td>\n",
              "      <td>402</td>\n",
              "      <td>207</td>\n",
              "      <td>114</td>\n",
              "      <td>383</td>\n",
              "      <td>109</td>\n",
              "      <td>379</td>\n",
              "      <td>414</td>\n",
              "      <td>64</td>\n",
              "      <td>149</td>\n",
              "      <td>228</td>\n",
              "      <td>236</td>\n",
              "      <td>74</td>\n",
              "      <td>126</td>\n",
              "      <td>387</td>\n",
              "      <td>326</td>\n",
              "      <td>457</td>\n",
              "      <td>475</td>\n",
              "      <td>286</td>\n",
              "      <td>325</td>\n",
              "      <td>394</td>\n",
              "      <td>408</td>\n",
              "      <td>335</td>\n",
              "      <td>328</td>\n",
              "    </tr>\n",
              "    <tr>\n",
              "      <th>7</th>\n",
              "      <td>491</td>\n",
              "      <td>233</td>\n",
              "      <td>313</td>\n",
              "      <td>308</td>\n",
              "      <td>293</td>\n",
              "      <td>446</td>\n",
              "      <td>465</td>\n",
              "      <td>335</td>\n",
              "      <td>362</td>\n",
              "      <td>388</td>\n",
              "      <td>465</td>\n",
              "      <td>440</td>\n",
              "      <td>352</td>\n",
              "      <td>425</td>\n",
              "      <td>407</td>\n",
              "      <td>437</td>\n",
              "      <td>374</td>\n",
              "      <td>248</td>\n",
              "      <td>368</td>\n",
              "      <td>112</td>\n",
              "      <td>456</td>\n",
              "      <td>291</td>\n",
              "      <td>343</td>\n",
              "      <td>343</td>\n",
              "      <td>371</td>\n",
              "      <td>369</td>\n",
              "      <td>419</td>\n",
              "      <td>305</td>\n",
              "      <td>349</td>\n",
              "      <td>373</td>\n",
              "      <td>498</td>\n",
              "    </tr>\n",
              "    <tr>\n",
              "      <th>8</th>\n",
              "      <td>45</td>\n",
              "      <td>192</td>\n",
              "      <td>349</td>\n",
              "      <td>280</td>\n",
              "      <td>243</td>\n",
              "      <td>462</td>\n",
              "      <td>497</td>\n",
              "      <td>469</td>\n",
              "      <td>468</td>\n",
              "      <td>407</td>\n",
              "      <td>459</td>\n",
              "      <td>242</td>\n",
              "      <td>218</td>\n",
              "      <td>282</td>\n",
              "      <td>247</td>\n",
              "      <td>209</td>\n",
              "      <td>423</td>\n",
              "      <td>351</td>\n",
              "      <td>299</td>\n",
              "      <td>321</td>\n",
              "      <td>336</td>\n",
              "      <td>240</td>\n",
              "      <td>395</td>\n",
              "      <td>322</td>\n",
              "      <td>305</td>\n",
              "      <td>380</td>\n",
              "      <td>495</td>\n",
              "      <td>475</td>\n",
              "      <td>432</td>\n",
              "      <td>483</td>\n",
              "      <td>485</td>\n",
              "    </tr>\n",
              "    <tr>\n",
              "      <th>9</th>\n",
              "      <td>492</td>\n",
              "      <td>160</td>\n",
              "      <td>407</td>\n",
              "      <td>238</td>\n",
              "      <td>196</td>\n",
              "      <td>445</td>\n",
              "      <td>524</td>\n",
              "      <td>501</td>\n",
              "      <td>436</td>\n",
              "      <td>339</td>\n",
              "      <td>490</td>\n",
              "      <td>233</td>\n",
              "      <td>417</td>\n",
              "      <td>209</td>\n",
              "      <td>242</td>\n",
              "      <td>341</td>\n",
              "      <td>524</td>\n",
              "      <td>501</td>\n",
              "      <td>365</td>\n",
              "      <td>214</td>\n",
              "      <td>529</td>\n",
              "      <td>224</td>\n",
              "      <td>502</td>\n",
              "      <td>270</td>\n",
              "      <td>295</td>\n",
              "      <td>399</td>\n",
              "      <td>528</td>\n",
              "      <td>536</td>\n",
              "      <td>452</td>\n",
              "      <td>482</td>\n",
              "      <td>534</td>\n",
              "    </tr>\n",
              "  </tbody>\n",
              "</table>\n",
              "</div>"
            ],
            "text/plain": [
              "    id  radius_mean  ...  symmetry_worst  fractal_dimension_worst\n",
              "0   41          370  ...             485                      506\n",
              "1   42          426  ...             222                      375\n",
              "2  488          406  ...             445                      361\n",
              "3  489           98  ...             499                      533\n",
              "4  490          418  ...              81                      216\n",
              "5   43          159  ...             466                      516\n",
              "6   44          376  ...             335                      328\n",
              "7  491          233  ...             373                      498\n",
              "8   45          192  ...             483                      485\n",
              "9  492          160  ...             482                      534\n",
              "\n",
              "[10 rows x 31 columns]"
            ]
          },
          "metadata": {
            "tags": []
          },
          "execution_count": 13
        }
      ]
    },
    {
      "cell_type": "code",
      "metadata": {
        "id": "pqAX06lBAluu",
        "colab_type": "code",
        "colab": {}
      },
      "source": [
        ""
      ],
      "execution_count": null,
      "outputs": []
    },
    {
      "cell_type": "markdown",
      "metadata": {
        "id": "E0hje6ife-uG",
        "colab_type": "text"
      },
      "source": [
        "**Splitting the dataset for training, testing and for validation.**"
      ]
    },
    {
      "cell_type": "code",
      "metadata": {
        "id": "lAMqDhsNJMXl",
        "colab_type": "code",
        "colab": {}
      },
      "source": [
        "X_train_full, X_test, y_train_full, y_test = train_test_split(X, y, random_state = 42)\n",
        "\n",
        "X_train, X_valid, y_train, y_valid = train_test_split(X_train_full, y_train_full, random_state = 42)"
      ],
      "execution_count": 14,
      "outputs": []
    },
    {
      "cell_type": "code",
      "metadata": {
        "id": "G2aSI0GxfJ54",
        "colab_type": "code",
        "colab": {}
      },
      "source": [
        ""
      ],
      "execution_count": null,
      "outputs": []
    },
    {
      "cell_type": "markdown",
      "metadata": {
        "id": "qPGhHwqvfKNU",
        "colab_type": "text"
      },
      "source": [
        "**Scaling of the dataset using StandardScaler.**"
      ]
    },
    {
      "cell_type": "code",
      "metadata": {
        "id": "-RjobpNcJMVv",
        "colab_type": "code",
        "colab": {}
      },
      "source": [
        "scaler = StandardScaler()"
      ],
      "execution_count": 15,
      "outputs": []
    },
    {
      "cell_type": "code",
      "metadata": {
        "id": "_JesTgsRJ20A",
        "colab_type": "code",
        "colab": {}
      },
      "source": [
        "X_train = scaler.fit_transform(X_train)\n",
        "X_valid = scaler.transform(X_valid)\n",
        "X_test = scaler.transform(X_test)"
      ],
      "execution_count": 16,
      "outputs": []
    },
    {
      "cell_type": "code",
      "metadata": {
        "id": "viEA0YBoftXv",
        "colab_type": "code",
        "colab": {}
      },
      "source": [
        ""
      ],
      "execution_count": null,
      "outputs": []
    },
    {
      "cell_type": "markdown",
      "metadata": {
        "id": "JocXzCpkfRHx",
        "colab_type": "text"
      },
      "source": [
        "**This is to generate the same result whenever we re-run this model.**"
      ]
    },
    {
      "cell_type": "code",
      "metadata": {
        "id": "QM8N6zT3KFCz",
        "colab_type": "code",
        "colab": {}
      },
      "source": [
        "np.random.seed(42)\n",
        "tf.random.set_seed(42)"
      ],
      "execution_count": 17,
      "outputs": []
    },
    {
      "cell_type": "code",
      "metadata": {
        "id": "4p_RiIXIKNXQ",
        "colab_type": "code",
        "colab": {
          "base_uri": "https://localhost:8080/",
          "height": 34
        },
        "outputId": "57db8ef4-33af-4ad9-98d9-0c33f110162f"
      },
      "source": [
        "X_train.shape"
      ],
      "execution_count": 18,
      "outputs": [
        {
          "output_type": "execute_result",
          "data": {
            "text/plain": [
              "(319, 31)"
            ]
          },
          "metadata": {
            "tags": []
          },
          "execution_count": 18
        }
      ]
    },
    {
      "cell_type": "code",
      "metadata": {
        "id": "WHLSyrhTKXe3",
        "colab_type": "code",
        "colab": {}
      },
      "source": [
        ""
      ],
      "execution_count": null,
      "outputs": []
    },
    {
      "cell_type": "markdown",
      "metadata": {
        "id": "N-L1BCKqeoFz",
        "colab_type": "text"
      },
      "source": [
        "**Creation and compilation the ANN model**"
      ]
    },
    {
      "cell_type": "code",
      "metadata": {
        "id": "xc4-34VNKfIM",
        "colab_type": "code",
        "colab": {}
      },
      "source": [
        "model = Sequential()\n",
        "\n",
        "model.add(Dense(32, input_shape = (31, ), name = 'Input'))\n",
        "model.add(Dense(64, activation = 'relu', kernel_initializer='he_normal', name = 'Dense_1'))\n",
        "model.add(Dense(128, activation = 'relu', kernel_initializer='he_normal', name = 'Dense_2'))\n",
        "model.add(Dropout(0.3))                                                                       # Dropout command is used to remove the randomly selected neurons during training so as to prevent overfitting.\n",
        " \n",
        "model.add(Dense(200, activation = 'relu', kernel_initializer='he_normal', name = 'Dense_3'))\n",
        "model.add(Dense(400, activation = 'relu', kernel_initializer='he_normal', name = 'Dense_4'))\n",
        "model.add(Dense(200, activation = 'relu', kernel_initializer='he_normal', name = 'Dense_5'))\n",
        "model.add(Dropout(0.3))\n",
        "\n",
        "model.add(Dense(128, activation='relu',  name = 'Dense_6'))\n",
        "model.add(Dense(64, activation='relu',  name = 'Dense_7'))\n",
        "model.add(Dense(32, activation='relu',  name = 'Dense_8'))\n",
        "model.add(Dropout(0.3))\n",
        "\n",
        "model.add(Dense(10, activation = 'softmax',kernel_initializer='he_normal', name = 'Output'))\n",
        "\n",
        "\n",
        "model.compile(loss = keras.losses.SparseCategoricalCrossentropy(),\n",
        "              optimizer = keras.optimizers.Adam(learning_rate = 0.001),\n",
        "              metrics = [keras.metrics.SparseCategoricalAccuracy()]\n",
        "              )"
      ],
      "execution_count": 29,
      "outputs": []
    },
    {
      "cell_type": "code",
      "metadata": {
        "id": "m1QWZh3JPr4y",
        "colab_type": "code",
        "colab": {
          "base_uri": "https://localhost:8080/",
          "height": 588
        },
        "outputId": "18f16d48-7f95-40ca-81de-59f02692893f"
      },
      "source": [
        "model.summary()"
      ],
      "execution_count": 31,
      "outputs": [
        {
          "output_type": "stream",
          "text": [
            "Model: \"sequential_2\"\n",
            "_________________________________________________________________\n",
            "Layer (type)                 Output Shape              Param #   \n",
            "=================================================================\n",
            "Input (Dense)                (None, 32)                1024      \n",
            "_________________________________________________________________\n",
            "Dense_1 (Dense)              (None, 64)                2112      \n",
            "_________________________________________________________________\n",
            "Dense_2 (Dense)              (None, 128)               8320      \n",
            "_________________________________________________________________\n",
            "dropout_4 (Dropout)          (None, 128)               0         \n",
            "_________________________________________________________________\n",
            "Dense_3 (Dense)              (None, 200)               25800     \n",
            "_________________________________________________________________\n",
            "Dense_4 (Dense)              (None, 400)               80400     \n",
            "_________________________________________________________________\n",
            "Dense_5 (Dense)              (None, 200)               80200     \n",
            "_________________________________________________________________\n",
            "dropout_5 (Dropout)          (None, 200)               0         \n",
            "_________________________________________________________________\n",
            "Dense_6 (Dense)              (None, 128)               25728     \n",
            "_________________________________________________________________\n",
            "Dense_7 (Dense)              (None, 64)                8256      \n",
            "_________________________________________________________________\n",
            "Dense_8 (Dense)              (None, 32)                2080      \n",
            "_________________________________________________________________\n",
            "dropout_6 (Dropout)          (None, 32)                0         \n",
            "_________________________________________________________________\n",
            "Output (Dense)               (None, 10)                330       \n",
            "=================================================================\n",
            "Total params: 234,250\n",
            "Trainable params: 234,250\n",
            "Non-trainable params: 0\n",
            "_________________________________________________________________\n"
          ],
          "name": "stdout"
        }
      ]
    },
    {
      "cell_type": "code",
      "metadata": {
        "id": "zkbXxg_BTCfN",
        "colab_type": "code",
        "colab": {}
      },
      "source": [
        ""
      ],
      "execution_count": null,
      "outputs": []
    },
    {
      "cell_type": "code",
      "metadata": {
        "id": "6H9R9pFXTCiL",
        "colab_type": "code",
        "colab": {
          "base_uri": "https://localhost:8080/",
          "height": 1000
        },
        "outputId": "13937e54-83ec-4df5-82e0-8e61a07af19e"
      },
      "source": [
        "keras.utils.plot_model(model) # Using pydot library"
      ],
      "execution_count": 32,
      "outputs": [
        {
          "output_type": "execute_result",
          "data": {
            "image/png": "[encoded data removed]",
            "text/plain": [
              "<IPython.core.display.Image object>"
            ]
          },
          "metadata": {
            "tags": []
          },
          "execution_count": 32
        }
      ]
    },
    {
      "cell_type": "code",
      "metadata": {
        "id": "7jcqmjbWTDLe",
        "colab_type": "code",
        "colab": {}
      },
      "source": [
        ""
      ],
      "execution_count": null,
      "outputs": []
    },
    {
      "cell_type": "code",
      "metadata": {
        "id": "3erjvmJpTXPf",
        "colab_type": "code",
        "colab": {}
      },
      "source": [
        "weights, biases = model.layers[1].get_weights()"
      ],
      "execution_count": 33,
      "outputs": []
    },
    {
      "cell_type": "code",
      "metadata": {
        "id": "fV--M1q0TidT",
        "colab_type": "code",
        "colab": {
          "base_uri": "https://localhost:8080/",
          "height": 235
        },
        "outputId": "363d4846-e7c5-4269-a385-618a57d70b1b"
      },
      "source": [
        "weights # for layer 1"
      ],
      "execution_count": 34,
      "outputs": [
        {
          "output_type": "execute_result",
          "data": {
            "text/plain": [
              "array([[-0.07877737, -0.20544857, -0.36547583, ..., -0.05577512,\n",
              "         0.06042426, -0.20284505],\n",
              "       [ 0.050933  , -0.40838134, -0.13165256, ..., -0.34201273,\n",
              "        -0.08049174, -0.27506712],\n",
              "       [-0.4315302 , -0.33437318, -0.54753834, ...,  0.09780499,\n",
              "        -0.22906283, -0.23786134],\n",
              "       ...,\n",
              "       [-0.15754391, -0.05666383, -0.3598577 , ..., -0.35720354,\n",
              "         0.0223857 ,  0.3880292 ],\n",
              "       [ 0.15629692,  0.40645972, -0.0403233 , ..., -0.15107577,\n",
              "        -0.4883551 ,  0.1548398 ],\n",
              "       [-0.20485306, -0.07597453, -0.5501524 , ..., -0.25558713,\n",
              "        -0.00375694, -0.0356092 ]], dtype=float32)"
            ]
          },
          "metadata": {
            "tags": []
          },
          "execution_count": 34
        }
      ]
    },
    {
      "cell_type": "code",
      "metadata": {
        "id": "df7JNNRbTik4",
        "colab_type": "code",
        "colab": {
          "base_uri": "https://localhost:8080/",
          "height": 34
        },
        "outputId": "44a325e5-b671-4af5-85b4-3b45caae6958"
      },
      "source": [
        "weights.shape"
      ],
      "execution_count": 35,
      "outputs": [
        {
          "output_type": "execute_result",
          "data": {
            "text/plain": [
              "(32, 64)"
            ]
          },
          "metadata": {
            "tags": []
          },
          "execution_count": 35
        }
      ]
    },
    {
      "cell_type": "code",
      "metadata": {
        "id": "_1Op9ZAXTXSz",
        "colab_type": "code",
        "colab": {
          "base_uri": "https://localhost:8080/",
          "height": 101
        },
        "outputId": "075c2f51-53c8-402d-def5-311a20514bef"
      },
      "source": [
        "print(biases.shape)\n",
        "biases"
      ],
      "execution_count": 36,
      "outputs": [
        {
          "output_type": "stream",
          "text": [
            "(64,)\n"
          ],
          "name": "stdout"
        },
        {
          "output_type": "execute_result",
          "data": {
            "text/plain": [
              "array([0., 0., 0., 0., 0., 0., 0., 0., 0., 0., 0., 0., 0., 0., 0., 0., 0.,\n",
              "       0., 0., 0., 0., 0., 0., 0., 0., 0., 0., 0., 0., 0., 0., 0., 0., 0.,\n",
              "       0., 0., 0., 0., 0., 0., 0., 0., 0., 0., 0., 0., 0., 0., 0., 0., 0.,\n",
              "       0., 0., 0., 0., 0., 0., 0., 0., 0., 0., 0., 0., 0.], dtype=float32)"
            ]
          },
          "metadata": {
            "tags": []
          },
          "execution_count": 36
        }
      ]
    },
    {
      "cell_type": "code",
      "metadata": {
        "id": "KOLJzWmWTmWF",
        "colab_type": "code",
        "colab": {}
      },
      "source": [
        ""
      ],
      "execution_count": null,
      "outputs": []
    },
    {
      "cell_type": "code",
      "metadata": {
        "id": "1-7XZ_F2P0Fi",
        "colab_type": "code",
        "colab": {
          "base_uri": "https://localhost:8080/",
          "height": 1000
        },
        "outputId": "4f4f0bbf-1870-40ac-f815-0018d74a2729"
      },
      "source": [
        "model_history = model.fit(X_train, y_train, epochs = 60, validation_data=(X_valid, y_valid), batch_size = 64, verbose = 2)"
      ],
      "execution_count": 54,
      "outputs": [
        {
          "output_type": "stream",
          "text": [
            "Train on 319 samples, validate on 107 samples\n",
            "Epoch 1/60\n",
            " - 0s - loss: 0.0062 - sparse_categorical_accuracy: 0.9969 - val_loss: 0.2763 - val_sparse_categorical_accuracy: 0.9720\n",
            "Epoch 2/60\n",
            " - 0s - loss: 0.0029 - sparse_categorical_accuracy: 1.0000 - val_loss: 0.3024 - val_sparse_categorical_accuracy: 0.9720\n",
            "Epoch 3/60\n",
            " - 0s - loss: 0.0142 - sparse_categorical_accuracy: 0.9969 - val_loss: 0.3181 - val_sparse_categorical_accuracy: 0.9720\n",
            "Epoch 4/60\n",
            " - 0s - loss: 0.0049 - sparse_categorical_accuracy: 0.9969 - val_loss: 0.3208 - val_sparse_categorical_accuracy: 0.9720\n",
            "Epoch 5/60\n",
            " - 0s - loss: 0.0026 - sparse_categorical_accuracy: 1.0000 - val_loss: 0.2841 - val_sparse_categorical_accuracy: 0.9720\n",
            "Epoch 6/60\n",
            " - 0s - loss: 0.0019 - sparse_categorical_accuracy: 1.0000 - val_loss: 0.2677 - val_sparse_categorical_accuracy: 0.9813\n",
            "Epoch 7/60\n",
            " - 0s - loss: 0.0087 - sparse_categorical_accuracy: 0.9969 - val_loss: 0.2743 - val_sparse_categorical_accuracy: 0.9813\n",
            "Epoch 8/60\n",
            " - 0s - loss: 9.5724e-04 - sparse_categorical_accuracy: 1.0000 - val_loss: 0.2737 - val_sparse_categorical_accuracy: 0.9813\n",
            "Epoch 9/60\n",
            " - 0s - loss: 0.0018 - sparse_categorical_accuracy: 1.0000 - val_loss: 0.2746 - val_sparse_categorical_accuracy: 0.9813\n",
            "Epoch 10/60\n",
            " - 0s - loss: 0.0037 - sparse_categorical_accuracy: 0.9969 - val_loss: 0.2777 - val_sparse_categorical_accuracy: 0.9813\n",
            "Epoch 11/60\n",
            " - 0s - loss: 0.0079 - sparse_categorical_accuracy: 0.9969 - val_loss: 0.2821 - val_sparse_categorical_accuracy: 0.9813\n",
            "Epoch 12/60\n",
            " - 0s - loss: 6.3303e-04 - sparse_categorical_accuracy: 1.0000 - val_loss: 0.2863 - val_sparse_categorical_accuracy: 0.9813\n",
            "Epoch 13/60\n",
            " - 0s - loss: 4.9201e-04 - sparse_categorical_accuracy: 1.0000 - val_loss: 0.2956 - val_sparse_categorical_accuracy: 0.9720\n",
            "Epoch 14/60\n",
            " - 0s - loss: 0.0159 - sparse_categorical_accuracy: 0.9937 - val_loss: 0.3073 - val_sparse_categorical_accuracy: 0.9720\n",
            "Epoch 15/60\n",
            " - 0s - loss: 0.0010 - sparse_categorical_accuracy: 1.0000 - val_loss: 0.3272 - val_sparse_categorical_accuracy: 0.9720\n",
            "Epoch 16/60\n",
            " - 0s - loss: 0.0016 - sparse_categorical_accuracy: 1.0000 - val_loss: 0.3439 - val_sparse_categorical_accuracy: 0.9720\n",
            "Epoch 17/60\n",
            " - 0s - loss: 4.2184e-04 - sparse_categorical_accuracy: 1.0000 - val_loss: 0.3575 - val_sparse_categorical_accuracy: 0.9720\n",
            "Epoch 18/60\n",
            " - 0s - loss: 6.7256e-04 - sparse_categorical_accuracy: 1.0000 - val_loss: 0.3682 - val_sparse_categorical_accuracy: 0.9720\n",
            "Epoch 19/60\n",
            " - 0s - loss: 0.0107 - sparse_categorical_accuracy: 0.9937 - val_loss: 0.3659 - val_sparse_categorical_accuracy: 0.9720\n",
            "Epoch 20/60\n",
            " - 0s - loss: 0.0290 - sparse_categorical_accuracy: 0.9937 - val_loss: 0.3411 - val_sparse_categorical_accuracy: 0.9626\n",
            "Epoch 21/60\n",
            " - 0s - loss: 0.0445 - sparse_categorical_accuracy: 0.9906 - val_loss: 0.3206 - val_sparse_categorical_accuracy: 0.9626\n",
            "Epoch 22/60\n",
            " - 0s - loss: 0.0077 - sparse_categorical_accuracy: 0.9969 - val_loss: 0.4165 - val_sparse_categorical_accuracy: 0.9626\n",
            "Epoch 23/60\n",
            " - 0s - loss: 0.0239 - sparse_categorical_accuracy: 0.9937 - val_loss: 0.5319 - val_sparse_categorical_accuracy: 0.9533\n",
            "Epoch 24/60\n",
            " - 0s - loss: 0.0299 - sparse_categorical_accuracy: 0.9906 - val_loss: 0.4000 - val_sparse_categorical_accuracy: 0.9533\n",
            "Epoch 25/60\n",
            " - 0s - loss: 0.0103 - sparse_categorical_accuracy: 0.9969 - val_loss: 0.3251 - val_sparse_categorical_accuracy: 0.9626\n",
            "Epoch 26/60\n",
            " - 0s - loss: 0.0259 - sparse_categorical_accuracy: 0.9937 - val_loss: 0.2946 - val_sparse_categorical_accuracy: 0.9626\n",
            "Epoch 27/60\n",
            " - 0s - loss: 0.0107 - sparse_categorical_accuracy: 0.9937 - val_loss: 0.2522 - val_sparse_categorical_accuracy: 0.9533\n",
            "Epoch 28/60\n",
            " - 0s - loss: 0.0014 - sparse_categorical_accuracy: 1.0000 - val_loss: 0.2985 - val_sparse_categorical_accuracy: 0.9626\n",
            "Epoch 29/60\n",
            " - 0s - loss: 0.0294 - sparse_categorical_accuracy: 0.9875 - val_loss: 0.2895 - val_sparse_categorical_accuracy: 0.9626\n",
            "Epoch 30/60\n",
            " - 0s - loss: 7.6775e-04 - sparse_categorical_accuracy: 1.0000 - val_loss: 0.2561 - val_sparse_categorical_accuracy: 0.9626\n",
            "Epoch 31/60\n",
            " - 0s - loss: 0.0099 - sparse_categorical_accuracy: 0.9969 - val_loss: 0.2328 - val_sparse_categorical_accuracy: 0.9720\n",
            "Epoch 32/60\n",
            " - 0s - loss: 0.0020 - sparse_categorical_accuracy: 1.0000 - val_loss: 0.2199 - val_sparse_categorical_accuracy: 0.9720\n",
            "Epoch 33/60\n",
            " - 0s - loss: 0.0095 - sparse_categorical_accuracy: 0.9969 - val_loss: 0.2206 - val_sparse_categorical_accuracy: 0.9720\n",
            "Epoch 34/60\n",
            " - 0s - loss: 0.0015 - sparse_categorical_accuracy: 1.0000 - val_loss: 0.2309 - val_sparse_categorical_accuracy: 0.9720\n",
            "Epoch 35/60\n",
            " - 0s - loss: 0.0083 - sparse_categorical_accuracy: 0.9969 - val_loss: 0.2547 - val_sparse_categorical_accuracy: 0.9720\n",
            "Epoch 36/60\n",
            " - 0s - loss: 0.0068 - sparse_categorical_accuracy: 1.0000 - val_loss: 0.2695 - val_sparse_categorical_accuracy: 0.9720\n",
            "Epoch 37/60\n",
            " - 0s - loss: 0.0103 - sparse_categorical_accuracy: 0.9969 - val_loss: 0.2773 - val_sparse_categorical_accuracy: 0.9720\n",
            "Epoch 38/60\n",
            " - 0s - loss: 0.0041 - sparse_categorical_accuracy: 0.9969 - val_loss: 0.2818 - val_sparse_categorical_accuracy: 0.9720\n",
            "Epoch 39/60\n",
            " - 0s - loss: 0.0112 - sparse_categorical_accuracy: 0.9969 - val_loss: 0.2836 - val_sparse_categorical_accuracy: 0.9720\n",
            "Epoch 40/60\n",
            " - 0s - loss: 0.0036 - sparse_categorical_accuracy: 1.0000 - val_loss: 0.2781 - val_sparse_categorical_accuracy: 0.9720\n",
            "Epoch 41/60\n",
            " - 0s - loss: 0.0266 - sparse_categorical_accuracy: 0.9969 - val_loss: 0.2611 - val_sparse_categorical_accuracy: 0.9720\n",
            "Epoch 42/60\n",
            " - 0s - loss: 0.0014 - sparse_categorical_accuracy: 1.0000 - val_loss: 0.2157 - val_sparse_categorical_accuracy: 0.9720\n",
            "Epoch 43/60\n",
            " - 0s - loss: 0.0157 - sparse_categorical_accuracy: 0.9937 - val_loss: 0.2220 - val_sparse_categorical_accuracy: 0.9626\n",
            "Epoch 44/60\n",
            " - 0s - loss: 0.0013 - sparse_categorical_accuracy: 1.0000 - val_loss: 0.2340 - val_sparse_categorical_accuracy: 0.9626\n",
            "Epoch 45/60\n",
            " - 0s - loss: 0.0018 - sparse_categorical_accuracy: 1.0000 - val_loss: 0.2420 - val_sparse_categorical_accuracy: 0.9626\n",
            "Epoch 46/60\n",
            " - 0s - loss: 0.0013 - sparse_categorical_accuracy: 1.0000 - val_loss: 0.2495 - val_sparse_categorical_accuracy: 0.9626\n",
            "Epoch 47/60\n",
            " - 0s - loss: 0.0110 - sparse_categorical_accuracy: 0.9937 - val_loss: 0.2591 - val_sparse_categorical_accuracy: 0.9626\n",
            "Epoch 48/60\n",
            " - 0s - loss: 0.0031 - sparse_categorical_accuracy: 1.0000 - val_loss: 0.2878 - val_sparse_categorical_accuracy: 0.9626\n",
            "Epoch 49/60\n",
            " - 0s - loss: 3.5408e-04 - sparse_categorical_accuracy: 1.0000 - val_loss: 0.3196 - val_sparse_categorical_accuracy: 0.9626\n",
            "Epoch 50/60\n",
            " - 0s - loss: 0.0026 - sparse_categorical_accuracy: 1.0000 - val_loss: 0.3378 - val_sparse_categorical_accuracy: 0.9626\n",
            "Epoch 51/60\n",
            " - 0s - loss: 0.0366 - sparse_categorical_accuracy: 0.9906 - val_loss: 0.3335 - val_sparse_categorical_accuracy: 0.9626\n",
            "Epoch 52/60\n",
            " - 0s - loss: 0.0035 - sparse_categorical_accuracy: 0.9969 - val_loss: 0.3338 - val_sparse_categorical_accuracy: 0.9626\n",
            "Epoch 53/60\n",
            " - 0s - loss: 3.3824e-04 - sparse_categorical_accuracy: 1.0000 - val_loss: 0.3363 - val_sparse_categorical_accuracy: 0.9626\n",
            "Epoch 54/60\n",
            " - 0s - loss: 0.0058 - sparse_categorical_accuracy: 0.9969 - val_loss: 0.3374 - val_sparse_categorical_accuracy: 0.9626\n",
            "Epoch 55/60\n",
            " - 0s - loss: 2.1773e-04 - sparse_categorical_accuracy: 1.0000 - val_loss: 0.3398 - val_sparse_categorical_accuracy: 0.9626\n",
            "Epoch 56/60\n",
            " - 0s - loss: 0.0027 - sparse_categorical_accuracy: 1.0000 - val_loss: 0.3432 - val_sparse_categorical_accuracy: 0.9626\n",
            "Epoch 57/60\n",
            " - 0s - loss: 9.5335e-04 - sparse_categorical_accuracy: 1.0000 - val_loss: 0.3480 - val_sparse_categorical_accuracy: 0.9626\n",
            "Epoch 58/60\n",
            " - 0s - loss: 7.6156e-04 - sparse_categorical_accuracy: 1.0000 - val_loss: 0.3529 - val_sparse_categorical_accuracy: 0.9720\n",
            "Epoch 59/60\n",
            " - 0s - loss: 0.0039 - sparse_categorical_accuracy: 0.9969 - val_loss: 0.3586 - val_sparse_categorical_accuracy: 0.9720\n",
            "Epoch 60/60\n",
            " - 0s - loss: 0.0028 - sparse_categorical_accuracy: 1.0000 - val_loss: 0.3633 - val_sparse_categorical_accuracy: 0.9720\n"
          ],
          "name": "stdout"
        }
      ]
    },
    {
      "cell_type": "code",
      "metadata": {
        "id": "cA3TNS6QQRfD",
        "colab_type": "code",
        "colab": {}
      },
      "source": [
        ""
      ],
      "execution_count": null,
      "outputs": []
    },
    {
      "cell_type": "code",
      "metadata": {
        "id": "-sUraR0sQfXo",
        "colab_type": "code",
        "colab": {
          "base_uri": "https://localhost:8080/",
          "height": 67
        },
        "outputId": "d0e0df15-09c1-4654-bd80-aa0fffe5e579"
      },
      "source": [
        "mae_test = model.evaluate(X_test, y_test)\n",
        "mae_test\n",
        "print('Loss = ', mae_test[0])\n",
        "print('Accuracy = ', mae_test[1]*100)"
      ],
      "execution_count": 55,
      "outputs": [
        {
          "output_type": "stream",
          "text": [
            "143/143 [==============================] - 0s 135us/step\n",
            "Loss =  0.26177316695585634\n",
            "Accuracy =  97.90209531784058\n"
          ],
          "name": "stdout"
        }
      ]
    },
    {
      "cell_type": "code",
      "metadata": {
        "id": "82yacT9yRJ5d",
        "colab_type": "code",
        "colab": {}
      },
      "source": [
        ""
      ],
      "execution_count": null,
      "outputs": []
    },
    {
      "cell_type": "code",
      "metadata": {
        "id": "_-E86rZ5QlYR",
        "colab_type": "code",
        "colab": {}
      },
      "source": [
        "history = model_history.history"
      ],
      "execution_count": 56,
      "outputs": []
    },
    {
      "cell_type": "code",
      "metadata": {
        "id": "rIZ-HUo1T2nB",
        "colab_type": "code",
        "colab": {}
      },
      "source": [
        ""
      ],
      "execution_count": null,
      "outputs": []
    },
    {
      "cell_type": "markdown",
      "metadata": {
        "id": "3GiGCeK2eZVC",
        "colab_type": "text"
      },
      "source": [
        "**The graph is used to check whether convergence is achived or not.**"
      ]
    },
    {
      "cell_type": "code",
      "metadata": {
        "id": "fioszHJWQp83",
        "colab_type": "code",
        "colab": {
          "base_uri": "https://localhost:8080/",
          "height": 428
        },
        "outputId": "ffde6cf8-e079-4bd3-9094-6c40a007c7e1"
      },
      "source": [
        "pd.DataFrame(history).plot(figsize = (10, 7))\n",
        "plt.gca()\n",
        "plt.grid(True)\n",
        "plt.show()"
      ],
      "execution_count": 57,
      "outputs": [
        {
          "output_type": "display_data",
          "data": {
            "image/png": "[encoded data removed]",
            "text/plain": [
              "<Figure size 720x504 with 1 Axes>"
            ]
          },
          "metadata": {
            "tags": [],
            "needs_background": "light"
          }
        }
      ]
    },
    {
      "cell_type": "code",
      "metadata": {
        "id": "EJ__ByMPROx8",
        "colab_type": "code",
        "colab": {}
      },
      "source": [
        ""
      ],
      "execution_count": null,
      "outputs": []
    },
    {
      "cell_type": "code",
      "metadata": {
        "id": "M5QIFE6PSYwq",
        "colab_type": "code",
        "colab": {
          "base_uri": "https://localhost:8080/",
          "height": 235
        },
        "outputId": "3aa1c1de-8fb9-4808-9e69-8adabdd9f8cb"
      },
      "source": [
        "y_pred = model.predict(X_test)\n",
        "print(y_pred)"
      ],
      "execution_count": 41,
      "outputs": [
        {
          "output_type": "stream",
          "text": [
            "[[1.09151199e-01 8.08850944e-01 3.30009894e-03 ... 1.47580476e-02\n",
            "  1.77303124e-02 1.04192887e-02]\n",
            " [5.35675589e-18 1.00000000e+00 1.20782197e-25 ... 2.17106321e-19\n",
            "  7.60438121e-23 1.35915584e-19]\n",
            " [7.62569369e-18 1.00000000e+00 1.92062683e-25 ... 3.00807745e-19\n",
            "  1.07334321e-22 1.78049412e-19]\n",
            " ...\n",
            " [1.00000000e+00 7.70734169e-19 3.32520720e-35 ... 1.07401687e-26\n",
            "  9.26583973e-21 8.02839846e-30]\n",
            " [4.12051700e-28 1.00000000e+00 0.00000000e+00 ... 3.32028479e-30\n",
            "  1.03983704e-35 1.34619155e-30]\n",
            " [1.00000000e+00 1.53416514e-30 0.00000000e+00 ... 0.00000000e+00\n",
            "  1.11549804e-33 0.00000000e+00]]\n"
          ],
          "name": "stdout"
        }
      ]
    },
    {
      "cell_type": "code",
      "metadata": {
        "id": "uIRxDIutaoKL",
        "colab_type": "code",
        "colab": {}
      },
      "source": [
        ""
      ],
      "execution_count": null,
      "outputs": []
    },
    {
      "cell_type": "markdown",
      "metadata": {
        "id": "L1zkUisKasib",
        "colab_type": "text"
      },
      "source": [
        "**Tuning of ANN model**"
      ]
    },
    {
      "cell_type": "code",
      "metadata": {
        "id": "1aAWsq-zUC26",
        "colab_type": "code",
        "colab": {}
      },
      "source": [
        "\n",
        "def build_classifier(optimizer, learn_rate, activation):\n",
        "  classifier = Sequential()\n",
        "\n",
        "  classifier.add(Dense(32, input_shape = (31, ), name = 'Input'))\n",
        "  classifier.add(Dense(64, activation = 'relu', kernel_initializer='he_normal', name = 'Dense_1'))\n",
        "  classifier.add(Dense(128, activation = 'relu', kernel_initializer='he_normal', name = 'Dense_2'))\n",
        "  classifier.add(Dropout(0.3))\n",
        "\n",
        "  classifier.add(Dense(200, activation = 'relu', kernel_initializer='he_normal', name = 'Dense_3'))\n",
        "  classifier.add(Dense(400, activation = 'relu', kernel_initializer='he_normal', name = 'Dense_4'))\n",
        "  classifier.add(Dense(200, activation = 'relu', kernel_initializer='he_normal', name = 'Dense_5'))\n",
        "  classifier.add(Dropout(0.3))\n",
        "\n",
        "  classifier.add(Dense(128, activation='relu',  name = 'Dense_6'))\n",
        "  classifier.add(Dense(64, activation='relu',  name = 'Dense_7'))\n",
        "  classifier.add(Dense(32, activation='relu',  name = 'Dense_8'))\n",
        "  classifier.add(Dropout(0.3))\n",
        "\n",
        "  classifier.add(Dense(10, activation = 'softmax',kernel_initializer='he_normal', name = 'Output'))\n",
        "\n",
        "\n",
        "  classifier.compile(loss = keras.losses.SparseCategoricalCrossentropy(),\n",
        "              optimizer = keras.optimizers.Adam(learning_rate = 0.001),\n",
        "              metrics = [keras.metrics.SparseCategoricalAccuracy()]\n",
        "              )\n",
        "  \n",
        "  return classifier"
      ],
      "execution_count": 44,
      "outputs": []
    },
    {
      "cell_type": "code",
      "metadata": {
        "id": "VsHJQqvbUp4B",
        "colab_type": "code",
        "colab": {}
      },
      "source": [
        "classifier = KerasClassifier(build_fn = build_classifier, epochs = 60, batch_size = 64, verbose = 2)"
      ],
      "execution_count": 45,
      "outputs": []
    },
    {
      "cell_type": "code",
      "metadata": {
        "id": "mJIONNRDU3w3",
        "colab_type": "code",
        "colab": {}
      },
      "source": [
        "parameters = {'optimizer':['Adam', 'RMSprop'],\n",
        "              'learn_rate': [0.001, 0.01, 0.1],\n",
        "              'epochs': [40,60,100],\n",
        "              'activation': ['relu', 'elu']\n",
        "              }\n",
        "\n",
        "grid = GridSearchCV(estimator = classifier, param_grid = parameters, scoring = 'accuracy', n_jobs = -1, cv = 3, verbose = 2)"
      ],
      "execution_count": 46,
      "outputs": []
    },
    {
      "cell_type": "code",
      "metadata": {
        "id": "dzwWJnGfWFVs",
        "colab_type": "code",
        "colab": {
          "base_uri": "https://localhost:8080/",
          "height": 1000
        },
        "outputId": "da36f03c-65dd-4a4d-c990-7840b686786d"
      },
      "source": [
        "grid_result = grid.fit(X_test, y_test)"
      ],
      "execution_count": 47,
      "outputs": [
        {
          "output_type": "stream",
          "text": [
            "Fitting 3 folds for each of 48 candidates, totalling 144 fits\n"
          ],
          "name": "stdout"
        },
        {
          "output_type": "stream",
          "text": [
            "[Parallel(n_jobs=-1)]: Using backend LokyBackend with 2 concurrent workers.\n",
            "[Parallel(n_jobs=-1)]: Done  37 tasks      | elapsed:  1.2min\n",
            "/usr/local/lib/python3.6/dist-packages/joblib/externals/loky/process_executor.py:691: UserWarning: A worker stopped while some jobs were given to the executor. This can be caused by a too short worker timeout or by a memory leak.\n",
            "  \"timeout or by a memory leak.\", UserWarning\n",
            "[Parallel(n_jobs=-1)]: Done 144 out of 144 | elapsed:  5.0min finished\n"
          ],
          "name": "stderr"
        },
        {
          "output_type": "stream",
          "text": [
            "Epoch 1/40\n",
            " - 0s - loss: 1.8359 - sparse_categorical_accuracy: 0.3427\n",
            "Epoch 2/40\n",
            " - 0s - loss: 1.0978 - sparse_categorical_accuracy: 0.4965\n",
            "Epoch 3/40\n",
            " - 0s - loss: 1.0349 - sparse_categorical_accuracy: 0.5734\n",
            "Epoch 4/40\n",
            " - 0s - loss: 0.6497 - sparse_categorical_accuracy: 0.7413\n",
            "Epoch 5/40\n",
            " - 0s - loss: 0.5920 - sparse_categorical_accuracy: 0.7622\n",
            "Epoch 6/40\n",
            " - 0s - loss: 0.3729 - sparse_categorical_accuracy: 0.8811\n",
            "Epoch 7/40\n",
            " - 0s - loss: 0.2918 - sparse_categorical_accuracy: 0.8881\n",
            "Epoch 8/40\n",
            " - 0s - loss: 0.1669 - sparse_categorical_accuracy: 0.9510\n",
            "Epoch 9/40\n",
            " - 0s - loss: 0.2163 - sparse_categorical_accuracy: 0.9371\n",
            "Epoch 10/40\n",
            " - 0s - loss: 0.1283 - sparse_categorical_accuracy: 0.9720\n",
            "Epoch 11/40\n",
            " - 0s - loss: 0.1346 - sparse_categorical_accuracy: 0.9580\n",
            "Epoch 12/40\n",
            " - 0s - loss: 0.0707 - sparse_categorical_accuracy: 0.9860\n",
            "Epoch 13/40\n",
            " - 0s - loss: 0.0703 - sparse_categorical_accuracy: 0.9720\n",
            "Epoch 14/40\n",
            " - 0s - loss: 0.0524 - sparse_categorical_accuracy: 0.9930\n",
            "Epoch 15/40\n",
            " - 0s - loss: 0.0703 - sparse_categorical_accuracy: 0.9720\n",
            "Epoch 16/40\n",
            " - 0s - loss: 0.0620 - sparse_categorical_accuracy: 0.9930\n",
            "Epoch 17/40\n",
            " - 0s - loss: 0.0096 - sparse_categorical_accuracy: 1.0000\n",
            "Epoch 18/40\n",
            " - 0s - loss: 0.0518 - sparse_categorical_accuracy: 0.9860\n",
            "Epoch 19/40\n",
            " - 0s - loss: 0.0725 - sparse_categorical_accuracy: 0.9790\n",
            "Epoch 20/40\n",
            " - 0s - loss: 0.0401 - sparse_categorical_accuracy: 0.9930\n",
            "Epoch 21/40\n",
            " - 0s - loss: 0.0940 - sparse_categorical_accuracy: 0.9860\n",
            "Epoch 22/40\n",
            " - 0s - loss: 0.0385 - sparse_categorical_accuracy: 0.9860\n",
            "Epoch 23/40\n",
            " - 0s - loss: 0.0118 - sparse_categorical_accuracy: 1.0000\n",
            "Epoch 24/40\n",
            " - 0s - loss: 0.0120 - sparse_categorical_accuracy: 1.0000\n",
            "Epoch 25/40\n",
            " - 0s - loss: 0.0134 - sparse_categorical_accuracy: 0.9930\n",
            "Epoch 26/40\n",
            " - 0s - loss: 0.0033 - sparse_categorical_accuracy: 1.0000\n",
            "Epoch 27/40\n",
            " - 0s - loss: 0.0119 - sparse_categorical_accuracy: 0.9930\n",
            "Epoch 28/40\n",
            " - 0s - loss: 0.0139 - sparse_categorical_accuracy: 0.9930\n",
            "Epoch 29/40\n",
            " - 0s - loss: 0.0030 - sparse_categorical_accuracy: 1.0000\n",
            "Epoch 30/40\n",
            " - 0s - loss: 0.0257 - sparse_categorical_accuracy: 0.9930\n",
            "Epoch 31/40\n",
            " - 0s - loss: 0.0013 - sparse_categorical_accuracy: 1.0000\n",
            "Epoch 32/40\n",
            " - 0s - loss: 0.0532 - sparse_categorical_accuracy: 0.9930\n",
            "Epoch 33/40\n",
            " - 0s - loss: 0.0163 - sparse_categorical_accuracy: 0.9930\n",
            "Epoch 34/40\n",
            " - 0s - loss: 0.0046 - sparse_categorical_accuracy: 1.0000\n",
            "Epoch 35/40\n",
            " - 0s - loss: 0.0071 - sparse_categorical_accuracy: 0.9930\n",
            "Epoch 36/40\n",
            " - 0s - loss: 0.0118 - sparse_categorical_accuracy: 0.9930\n",
            "Epoch 37/40\n",
            " - 0s - loss: 0.0024 - sparse_categorical_accuracy: 1.0000\n",
            "Epoch 38/40\n",
            " - 0s - loss: 0.0249 - sparse_categorical_accuracy: 0.9930\n",
            "Epoch 39/40\n",
            " - 0s - loss: 0.0067 - sparse_categorical_accuracy: 0.9930\n",
            "Epoch 40/40\n",
            " - 0s - loss: 0.0020 - sparse_categorical_accuracy: 1.0000\n"
          ],
          "name": "stdout"
        }
      ]
    },
    {
      "cell_type": "code",
      "metadata": {
        "id": "IR8FvpQBWWfa",
        "colab_type": "code",
        "colab": {}
      },
      "source": [
        ""
      ],
      "execution_count": null,
      "outputs": []
    },
    {
      "cell_type": "code",
      "metadata": {
        "id": "ltmV46C2Y7Ws",
        "colab_type": "code",
        "colab": {
          "base_uri": "https://localhost:8080/",
          "height": 34
        },
        "outputId": "eca5f925-d0a2-431a-f446-965f23e30fb6"
      },
      "source": [
        "grid_result.best_estimator_"
      ],
      "execution_count": 48,
      "outputs": [
        {
          "output_type": "execute_result",
          "data": {
            "text/plain": [
              "<keras.wrappers.scikit_learn.KerasClassifier at 0x7f6e265c2898>"
            ]
          },
          "metadata": {
            "tags": []
          },
          "execution_count": 48
        }
      ]
    },
    {
      "cell_type": "code",
      "metadata": {
        "id": "6yU78miyY-Nc",
        "colab_type": "code",
        "colab": {
          "base_uri": "https://localhost:8080/",
          "height": 34
        },
        "outputId": "47857751-57db-470b-91ab-11a860e56cf0"
      },
      "source": [
        "grid_result.best_params_"
      ],
      "execution_count": 52,
      "outputs": [
        {
          "output_type": "execute_result",
          "data": {
            "text/plain": [
              "{'activation': 'elu', 'epochs': 40, 'learn_rate': 0.01, 'optimizer': 'RMSprop'}"
            ]
          },
          "metadata": {
            "tags": []
          },
          "execution_count": 52
        }
      ]
    },
    {
      "cell_type": "code",
      "metadata": {
        "id": "0JkzwagGZCLV",
        "colab_type": "code",
        "colab": {
          "base_uri": "https://localhost:8080/",
          "height": 34
        },
        "outputId": "f6ff8ea0-3f7f-4b5c-8d4e-86ceeafc615a"
      },
      "source": [
        "grid_result.best_score_"
      ],
      "execution_count": 53,
      "outputs": [
        {
          "output_type": "execute_result",
          "data": {
            "text/plain": [
              "0.9861111111111112"
            ]
          },
          "metadata": {
            "tags": []
          },
          "execution_count": 53
        }
      ]
    },
    {
      "cell_type": "code",
      "metadata": {
        "id": "Yu4Gvj-5ZF77",
        "colab_type": "code",
        "colab": {
          "base_uri": "https://localhost:8080/",
          "height": 34
        },
        "outputId": "73190fbd-fcf0-4bc1-f27b-49be11be42e0"
      },
      "source": [
        "score_after_Tunning = round((grid_result.best_score_)*100, 4)\n",
        "score_after_Tunning"
      ],
      "execution_count": 51,
      "outputs": [
        {
          "output_type": "execute_result",
          "data": {
            "text/plain": [
              "98.6111"
            ]
          },
          "metadata": {
            "tags": []
          },
          "execution_count": 51
        }
      ]
    },
    {
      "cell_type": "code",
      "metadata": {
        "id": "JOXEiETmZRr_",
        "colab_type": "code",
        "colab": {}
      },
      "source": [
        ""
      ],
      "execution_count": null,
      "outputs": []
    },
    {
      "cell_type": "markdown",
      "metadata": {
        "id": "qeuL-9Vhhm0j",
        "colab_type": "text"
      },
      "source": [
        "**Before tuning the model, accuracy was 97.90 %.**\n",
        "\n",
        "**After tuning the model, accuracy is 98.61 %**"
      ]
    },
    {
      "cell_type": "code",
      "metadata": {
        "id": "tGQob5DThmKP",
        "colab_type": "code",
        "colab": {}
      },
      "source": [
        ""
      ],
      "execution_count": null,
      "outputs": []
    }
  ]
}